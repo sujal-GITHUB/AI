{
 "cells": [
  {
   "cell_type": "markdown",
   "metadata": {},
   "source": [
    "# Lunar Landing"
   ]
  },
  {
   "cell_type": "markdown",
   "metadata": {},
   "source": [
    "\n",
    "Installing Gymnasium"
   ]
  },
  {
   "cell_type": "code",
   "execution_count": 4,
   "metadata": {},
   "outputs": [
    {
     "name": "stdout",
     "output_type": "stream",
     "text": [
      "Defaulting to user installation because normal site-packages is not writeable\n",
      "Requirement already satisfied: gymnasium[box2d] in c:\\users\\sujal\\appdata\\roaming\\python\\python311\\site-packages (0.29.1)\n",
      "Requirement already satisfied: numpy>=1.21.0 in c:\\users\\sujal\\appdata\\roaming\\python\\python311\\site-packages (from gymnasium[box2d]) (1.26.4)\n",
      "Requirement already satisfied: cloudpickle>=1.2.0 in c:\\users\\sujal\\appdata\\roaming\\python\\python311\\site-packages (from gymnasium[box2d]) (3.0.0)\n",
      "Requirement already satisfied: typing-extensions>=4.3.0 in c:\\users\\sujal\\appdata\\roaming\\python\\python311\\site-packages (from gymnasium[box2d]) (4.12.2)\n",
      "Requirement already satisfied: farama-notifications>=0.0.1 in c:\\users\\sujal\\appdata\\roaming\\python\\python311\\site-packages (from gymnasium[box2d]) (0.0.4)\n",
      "Collecting box2d-py==2.3.5 (from gymnasium[box2d])\n",
      "  Using cached box2d-py-2.3.5.tar.gz (374 kB)\n",
      "  Preparing metadata (setup.py): started\n",
      "  Preparing metadata (setup.py): finished with status 'done'\n",
      "Collecting pygame>=2.1.3 (from gymnasium[box2d])\n",
      "  Using cached pygame-2.6.0-cp311-cp311-win_amd64.whl.metadata (13 kB)\n",
      "Requirement already satisfied: swig==4.* in c:\\users\\sujal\\appdata\\roaming\\python\\python311\\site-packages (from gymnasium[box2d]) (4.2.1)\n",
      "Using cached pygame-2.6.0-cp311-cp311-win_amd64.whl (10.8 MB)\n",
      "Building wheels for collected packages: box2d-py\n",
      "  Building wheel for box2d-py (setup.py): started\n",
      "  Building wheel for box2d-py (setup.py): finished with status 'done'\n",
      "  Created wheel for box2d-py: filename=box2d_py-2.3.5-cp311-cp311-win_amd64.whl size=450209 sha256=a5452619686ac1d7e3ece9485ad76d5f14c07524203042b639beda58f36c7c95\n",
      "  Stored in directory: c:\\users\\sujal\\appdata\\local\\pip\\cache\\wheels\\ab\\f1\\0c\\d56f4a2bdd12bae0a0693ec33f2f0daadb5eb9753c78fa5308\n",
      "Successfully built box2d-py\n",
      "Installing collected packages: box2d-py, pygame\n",
      "Successfully installed box2d-py-2.3.5 pygame-2.6.0\n",
      "Note: you may need to restart the kernel to use updated packages.\n"
     ]
    },
    {
     "name": "stderr",
     "output_type": "stream",
     "text": [
      "DEPRECATION: Loading egg at c:\\program files\\python311\\lib\\site-packages\\vboxapi-1.0-py3.11.egg is deprecated. pip 24.3 will enforce this behaviour change. A possible replacement is to use pip for package installation. Discussion can be found at https://github.com/pypa/pip/issues/12330\n"
     ]
    }
   ],
   "source": [
    "\n",
    "%pip install gymnasium[box2d]"
   ]
  },
  {
   "cell_type": "markdown",
   "metadata": {},
   "source": [
    "Importing Libraries\n"
   ]
  },
  {
   "cell_type": "code",
   "execution_count": 1,
   "metadata": {},
   "outputs": [],
   "source": [
    "import os\n",
    "import random\n",
    "import numpy as np\n",
    "import torch\n",
    "import torch.nn as nn\n",
    "import torch.optim as optim\n",
    "import torch.nn.functional as F\n",
    "import torch.autograd as autograd\n",
    "from torch.autograd import Variable\n",
    "from collections import deque, namedtuple"
   ]
  },
  {
   "cell_type": "markdown",
   "metadata": {},
   "source": [
    "## Building the AI"
   ]
  },
  {
   "cell_type": "code",
   "execution_count": 2,
   "metadata": {},
   "outputs": [],
   "source": [
    "class Network(nn.Module):\n",
    "\n",
    "  def __init__(self, state_size, action_size, seed = 42):\n",
    "    super(Network, self).__init__()\n",
    "    self.seed = torch.manual_seed(seed)\n",
    "    self.fc1 = nn.Linear(state_size, 64)\n",
    "    self.fc2 = nn.Linear(64, 64)\n",
    "    self.fc3 = nn.Linear(64, action_size)\n",
    "\n",
    "  def forward(self, state):\n",
    "    x = self.fc1(state)\n",
    "    x = F.relu(x)\n",
    "    x = self.fc2(x)\n",
    "    x = F.relu(x)\n",
    "    return self.fc3(x)"
   ]
  },
  {
   "cell_type": "markdown",
   "metadata": {},
   "source": [
    "## Training AI"
   ]
  },
  {
   "cell_type": "code",
   "execution_count": 3,
   "metadata": {},
   "outputs": [
    {
     "name": "stdout",
     "output_type": "stream",
     "text": [
      "State shape:  (8,)\n",
      "State size:  8\n",
      "Number of actions:  4\n"
     ]
    }
   ],
   "source": [
    "import gymnasium as gym\n",
    "env = gym.make('LunarLander-v2')\n",
    "state_shape = env.observation_space.shape\n",
    "state_size = env.observation_space.shape[0]\n",
    "number_actions = env.action_space.n\n",
    "print('State shape: ', state_shape)\n",
    "print('State size: ', state_size)\n",
    "print('Number of actions: ', number_actions)"
   ]
  },
  {
   "cell_type": "markdown",
   "metadata": {},
   "source": [
    "Initializing Hyperparameters\n"
   ]
  },
  {
   "cell_type": "code",
   "execution_count": 4,
   "metadata": {},
   "outputs": [],
   "source": [
    "learning_rate = 5e-4\n",
    "minibatch_size = 100\n",
    "discount_factor = 0.99\n",
    "replay_buffer_size = int(1e5)\n",
    "interpolation_parameter = 1e-3"
   ]
  },
  {
   "cell_type": "markdown",
   "metadata": {},
   "source": [
    "Implementing Experience Replay"
   ]
  },
  {
   "cell_type": "code",
   "execution_count": 5,
   "metadata": {},
   "outputs": [],
   "source": [
    "class ReplayMemory(object):\n",
    "\n",
    "  def __init__(self, capacity):\n",
    "    self.device = torch.device(\"cuda:0\" if torch.cuda.is_available() else \"cpu\")\n",
    "    self.capacity = capacity\n",
    "    self.memory = []\n",
    "\n",
    "  def push(self, event):\n",
    "    self.memory.append(event)\n",
    "    if len(self.memory) > self.capacity:\n",
    "      del self.memory[0]\n",
    "\n",
    "  def sample(self, batch_size):\n",
    "    experiences = random.sample(self.memory, k = batch_size)\n",
    "    states = torch.from_numpy(np.vstack([e[0] for e in experiences if e is not None])).float().to(self.device)\n",
    "    actions = torch.from_numpy(np.vstack([e[1] for e in experiences if e is not None])).long().to(self.device)\n",
    "    rewards = torch.from_numpy(np.vstack([e[2] for e in experiences if e is not None])).float().to(self.device)\n",
    "    next_states = torch.from_numpy(np.vstack([e[3] for e in experiences if e is not None])).float().to(self.device)\n",
    "    dones = torch.from_numpy(np.vstack([e[4] for e in experiences if e is not None]).astype(np.uint8)).float().to(self.device)\n",
    "    return states, next_states, actions, rewards, dones"
   ]
  },
  {
   "cell_type": "markdown",
   "metadata": {},
   "source": [
    "Implementing DQN class"
   ]
  },
  {
   "cell_type": "code",
   "execution_count": 6,
   "metadata": {},
   "outputs": [],
   "source": [
    "learning_rate = 5e-4\n",
    "minibatch_size = 100\n",
    "discount_factor = 0.99\n",
    "replay_buffer_size = int(1e5)\n",
    "interpolation_parameter = 1e-3"
   ]
  },
  {
   "cell_type": "code",
   "execution_count": 7,
   "metadata": {},
   "outputs": [],
   "source": [
    "class Agent():\n",
    "\n",
    "  def __init__(self, state_size, action_size):\n",
    "    self.device = torch.device(\"cuda:0\" if torch.cuda.is_available() else \"cpu\")\n",
    "    self.state_size = state_size\n",
    "    self.action_size = action_size\n",
    "    self.local_qnetwork = Network(state_size, action_size).to(self.device)\n",
    "    self.target_qnetwork = Network(state_size, action_size).to(self.device)\n",
    "    self.optimizer = optim.Adam(self.local_qnetwork.parameters(), lr = learning_rate)\n",
    "    self.memory = ReplayMemory(replay_buffer_size)\n",
    "    self.t_step = 0\n",
    "\n",
    "  def step(self, state, action, reward, next_state, done):\n",
    "    self.memory.push((state, action, reward, next_state, done))\n",
    "    self.t_step = (self.t_step + 1) % 4\n",
    "    if self.t_step == 0:\n",
    "      if len(self.memory.memory) > minibatch_size:\n",
    "        experiences = self.memory.sample(100)\n",
    "        self.learn(experiences, discount_factor)\n",
    "\n",
    "  def act(self, state, epsilon = 0.):\n",
    "    state = torch.from_numpy(state).float().unsqueeze(0).to(self.device)\n",
    "    self.local_qnetwork.eval()\n",
    "    with torch.no_grad():\n",
    "      action_values = self.local_qnetwork(state)\n",
    "    self.local_qnetwork.train()\n",
    "    if random.random() > epsilon:\n",
    "      return np.argmax(action_values.cpu().data.numpy())\n",
    "    else:\n",
    "      return random.choice(np.arange(self.action_size))\n",
    "\n",
    "  def learn(self, experiences, discount_factor):\n",
    "    states, next_states, actions, rewards, dones = experiences\n",
    "    next_q_targets = self.target_qnetwork(next_states).detach().max(1)[0].unsqueeze(1)\n",
    "    q_targets = rewards + discount_factor * next_q_targets * (1 - dones)\n",
    "    q_expected = self.local_qnetwork(states).gather(1, actions)\n",
    "    loss = F.mse_loss(q_expected, q_targets)\n",
    "    self.optimizer.zero_grad()\n",
    "    loss.backward()\n",
    "    self.optimizer.step()\n",
    "    self.soft_update(self.local_qnetwork, self.target_qnetwork, interpolation_parameter)\n",
    "\n",
    "  def soft_update(self, local_model, target_model, interpolation_parameter):\n",
    "    for target_param, local_param in zip(target_model.parameters(), local_model.parameters()):\n",
    "      target_param.data.copy_(interpolation_parameter * local_param.data + (1.0 - interpolation_parameter) * target_param.data)"
   ]
  },
  {
   "cell_type": "markdown",
   "metadata": {},
   "source": [
    "Initializing DQN agent\n"
   ]
  },
  {
   "cell_type": "code",
   "execution_count": 8,
   "metadata": {},
   "outputs": [],
   "source": [
    "agent = Agent(state_size, number_actions)"
   ]
  },
  {
   "cell_type": "markdown",
   "metadata": {},
   "source": [
    "Training the DQN agent"
   ]
  },
  {
   "cell_type": "code",
   "execution_count": 12,
   "metadata": {},
   "outputs": [
    {
     "name": "stdout",
     "output_type": "stream",
     "text": [
      "Episode 100\tAverage Score: -92.62\n",
      "Episode 200\tAverage Score: -6.905\n",
      "Episode 300\tAverage Score: 105.72\n",
      "Episode 382\tAverage Score: 201.86\n",
      "Environment solved in 282 episodes!\tAverage Score: 201.86\n"
     ]
    }
   ],
   "source": [
    "number_episodes = 2000\n",
    "maximum_number_timesteps_per_episode = 1000\n",
    "epsilon_starting_value  = 1.0\n",
    "epsilon_ending_value  = 0.01\n",
    "epsilon_decay_value  = 0.995\n",
    "epsilon = epsilon_starting_value\n",
    "scores_on_100_episodes = deque(maxlen = 100)\n",
    "\n",
    "for episode in range(1, number_episodes + 1):\n",
    "  state, _ = env.reset()\n",
    "  score = 0\n",
    "  for t in range(maximum_number_timesteps_per_episode):\n",
    "    action = agent.act(state, epsilon)\n",
    "    next_state, reward, done, _, _ = env.step(action)\n",
    "    agent.step(state, action, reward, next_state, done)\n",
    "    state = next_state\n",
    "    score += reward\n",
    "    if done:\n",
    "      break\n",
    "  scores_on_100_episodes.append(score)\n",
    "  epsilon = max(epsilon_ending_value, epsilon_decay_value * epsilon)\n",
    "  print('\\rEpisode {}\\tAverage Score: {:.2f}'.format(episode, np.mean(scores_on_100_episodes)), end = \"\")\n",
    "  if episode % 100 == 0:\n",
    "    print('\\rEpisode {}\\tAverage Score: {:.2f}'.format(episode, np.mean(scores_on_100_episodes)))\n",
    "  if np.mean(scores_on_100_episodes) >= 200.0:\n",
    "    print('\\nEnvironment solved in {:d} episodes!\\tAverage Score: {:.2f}'.format(episode - 100, np.mean(scores_on_100_episodes)))\n",
    "    torch.save(agent.local_qnetwork.state_dict(), 'checkpoint.pth')\n",
    "    break"
   ]
  },
  {
   "cell_type": "markdown",
   "metadata": {},
   "source": [
    "## Visualizing the results"
   ]
  },
  {
   "cell_type": "code",
   "execution_count": 13,
   "metadata": {},
   "outputs": [
    {
     "name": "stderr",
     "output_type": "stream",
     "text": [
      "IMAGEIO FFMPEG_WRITER WARNING: input image is not divisible by macro_block_size=16, resizing from (600, 400) to (608, 400) to ensure video compatibility with most codecs and players. To prevent resizing, make your input image divisible by the macro_block_size or set the macro_block_size to 1 (risking incompatibility).\n"
     ]
    },
    {
     "data": {
      "text/html": [
       "<video alt=\"test\" autoplay\n",
       "                loop controls style=\"height: 400px;\">\n",
       "                <source src=\"data:video/mp4;base64,AAAAIGZ0eXBpc29tAAACAGlzb21pc28yYXZjMW1wNDEAAAAIZnJlZQAAv/5tZGF0AAACoQYF//+d3EXpvebZSLeWLNgg2SPu73gyNjQgLSBjb3JlIDE1OSAtIEguMjY0L01QRUctNCBBVkMgY29kZWMgLSBDb3B5bGVmdCAyMDAzLTIwMTkgLSBodHRwOi8vd3d3LnZpZGVvbGFuLm9yZy94MjY0Lmh0bWwgLSBvcHRpb25zOiBjYWJhYz0xIHJlZj0zIGRlYmxvY2s9MTowOjAgYW5hbHlzZT0weDM6MHgxMTMgbWU9aGV4IHN1Ym1lPTcgcHN5PTEgcHN5X3JkPTEuMDA6MC4wMCBtaXhlZF9yZWY9MSBtZV9yYW5nZT0xNiBjaHJvbWFfbWU9MSB0cmVsbGlzPTEgOHg4ZGN0PTEgY3FtPTAgZGVhZHpvbmU9MjEsMTEgZmFzdF9wc2tpcD0xIGNocm9tYV9xcF9vZmZzZXQ9LTIgdGhyZWFkcz0xMiBsb29rYWhlYWRfdGhyZWFkcz0yIHNsaWNlZF90aHJlYWRzPTAgbnI9MCBkZWNpbWF0ZT0xIGludGVybGFjZWQ9MCBibHVyYXlfY29tcGF0PTAgY29uc3RyYWluZWRfaW50cmE9MCBiZnJhbWVzPTMgYl9weXJhbWlkPTIgYl9hZGFwdD0xIGJfYmlhcz0wIGRpcmVjdD0xIHdlaWdodGI9MSBvcGVuX2dvcD0wIHdlaWdodHA9MiBrZXlpbnQ9MjUwIGtleWludF9taW49MjUgc2NlbmVjdXQ9NDAgaW50cmFfcmVmcmVzaD0wIHJjX2xvb2thaGVhZD00MCByYz1jcmYgbWJ0cmVlPTEgY3JmPTIzLjAgcWNvbXA9MC42MCBxcG1pbj0wIHFwbWF4PTY5IHFwc3RlcD00IGlwX3JhdGlvPTEuNDAgYXE9MToxLjAwAIAAAAesZYiEADf//vbw/gU2VgRQlxHN6J0zH78VuLo0N73ZEeC53F1AoOF72y+i71ivEcNDe/4pcCb3L/0XyVeppbpOMhtCqO9OewusveGz12MptWgAYJkAwY5avA298i7Eg+dulEzKi2++BP+rEAXzzsGC+pKmzrLUtCiXn/keYkJ3/INcGfvD1qztk+LjuOzzCUaqamHwcJlxOCUKkJ2iegI4QnDl8ZJ/PqpaYfwUC7cvQHT4Mpi5r/UtJ8C0I9me9GuZpQoRjrSB0Vdkfxrt1dFaNd50VQ/RCmItMnHKkI8zZfECdCh+Gv5IeeinWxhpgRGvCjutK/x/YAAAAwAFb8BcFX6nRBQ71ZxKVsSguuAAG5BU04EMuKCK0OYRwew3hyjdIcXQF4c22cKstpU9SsFF6BNsk5rfv1TaxyzY4+KOyEg/y2evXR9kFx2wmdEw5k5FihUmeHLgyG4fuCnbgntj8H6BjEBOwkxqaIo3M8TPDy+S8QbsjWm7GZ17tpJGX/uchHjbefQw8QB6ToIXktalRwQrVuALU9NZRgBAsIrx9G7G0r15/WSJMjSRktIWnZvb155bIAIMDPbcw1/ibsgWeew4P2e0ZmPqn/ULWuo0F4oCZ/motviV92pRB6qharFiNZYqfD0MqxHa97hR6L7Ud/0c68t8vn/oAZJgiotiy/zNsGlDaIQQH5pJ1Ce42gdsA/nKMC8kEyCIwUaNETT96v6Gg3h6LLof0nmEEXZgvo1b/IZfF/I1W3WkAHyIrEbcOZbBAGoenaYVBJeow3au5dIJi1WieOQ0MxPaWD+7SlAQZlmGQ5OD94Y0MsJBfgjD7goWdQ3w31/i2uVofSpJBbtENoTUAstE9JCP2cDIaCr9SJJaIW/DaWxkrvv1288avYcykvXviuimqI/xomCTtANW1hvQ1d1CikoQIStPfDf38/GoXOr/+TPhlR/8uImCnC54sQXCBJm2qPztZXeq/ZhhvLvrX2GEf3Xbx7bvYrFxOuJKJu+lg4adkIO3BVnUvdnhAqaP6nYYlfvSpjukdmy89QI6f4lx5QqvAOnzE76uN5tZeJ0Tts99Z+0ZsZQkgV9cjN2DsGzg79YRli6+BLb7jt8kTR9P3ovbSWlpYT/8McYGY7b/N2huGdFxb3iMwGI6rDMrDpiplD58XEisfvsX170C1xYchgnSYiH7kDsWUu2PT/zwN8ASyy3JrxQQ6AfHB2oWAhsUwyz3eP0nYt8Qb7qZQxqVQ/pPTVWBaCSb5ad2JsiTBIpm5fjUNFKtjxV4LRPAy/FwlFZkgaHOzgF5rzj0mtJFZMYMhcFOoMQsdr+QyZaBSsEKigA2p+/0Ix9Y49ZC7Mro15ylvY9tGA+ByBXQglCeVMXNoBHQ6sTIk1Fe9FA+oGNRMUtDprvDseY/Hv9Q7ndiSqeSlIVxSkx2t18qYSP2Dg57qECUIc0/xtt2uc5RtbS/a8IktETzxDPB2ZzOV5rkNOFL3lREk3+wnmvyJS+HYLOuOAelMZt0qseGITu8br1ghJcsuPcF2oLE1cNuzFpoltPnjZhytCsrpff50/EYvGBV4ok51AQrOMdeDC1uyKDRcThKdmFy+ubIscpMGUDPgFvE0yUDUSUg40dtcmq1cuHf4vP+2mvflBytl+JBdlQOesc7wP8RNChAxv546YWOOHlVxXOvHprM6ol1R124WGIIOGXSPCfzzbigfdILX9AFN5EwxprfMikVktPpToC6gNVWnJnSBAuso2ONR6cINFahn6nelCmCXZBPiBkvlh/PHMbce2riZ2OpvxQhN1zCghNC8nTIlCAR6AhrUjmxnyay0rbSdFdrDgOzvhncBaxpMqdxhFiiBS/EI9yg5+5c2yLo0NZdSKoopbDgeItMd01FVD97ERpDE07ESuOM5zyVxkegclai4YOSbdLGJmXZI/Xr2fXFqr5VYhFlmqnQlaxcLrWDJLwOAPvyb5S0V8RYP+kmPWMxbgyRflnQAKhdJeqLWcWmA1+//3wpJgfbiZqukDXZr9aeTZQtSotsG931V/heHMsV3fVmMv+aTrI/rSn9JRe+UuICmxQQuevdsg7EMyiPbLtl68ujGVm+sqUh1OHhQ4uWfGUdZ6bK0TM+0qeO/r//mlROAJpfHhMMJe4iEtxzzRSFupHlY386N7Zm8uOVv7b8rwnPMm49CH4Ai6vYgSjuiJ9ePnp117C/3ipmYQ82PWpTT3AMF4TsLQjthxnnmWRiNLEa8K46GhRaKub5U1X3ockj////5V0W7C1F+slA7Wck2M/0HyDbWbyzefDIsaeGFPbCcTGPKMf5U10D8NZ8vFgcX/DtZs9cW1aNS4oBZc8Qdffdc22lnb2xF/DrQOVpyXYB9Yo0lTzaT2tGkWmJuvD7o2EP8caoQh7s2DRnsZE9mBbOCsTVdZRqaMG9PXu4o2RWU1lOZq2KAocJLGjg/4KLAYO7+7h8ZnNIL7yLuUzjMWk9V+rAqtolAdMUC83mgKdnTzdIJcLM2NWEE23TssVnYC1FeOCcRCqXYCDpneLdO9UqYAuNdj4OgAAABLp0UD+FrvG8uOsg3NxGnQ4MiIIdMtCiwSQgLgv8KBQT7bmzwhzoHAADWQIkBuUAAAEwQZokbEN//qePcJ/vPmgSXNwAXJrdsvRRFnpTU3mMdoITDUdG6Xo7133AH/XdkodgKRZLOkZQGXrZlsRPNXceW3mP54+1pfsRusphrbq6VmzU0KuYNqo2EnvfqJmTwABKZ+d2tSqPw9q8Q8Pq91GRX1Ed1cUQ0C5R58gzWtbnR9h+3VDdZvOXodLcNCO1nVzHZmztPZsAKCBrA2ImyhNjiVGd36qZFFU4//dxC4vxREF5ng4ZyzszBY3IlPUpU6NB/tieVCNqI4Ey0Gfra8/RDNBh0jk35k6np0YNYHz7MRJ88sw+1vVLLskd9lTec9YZwe/qcMKJ54WiOPueRH3/1RnwDJ9jAIAG25lTBjUuoH+fevu9BAFh08X9xH1mh61MELX8B2lg8oEiFvDqwjniDQAAAEdBnkJ4hX8L6pcN05gb1yHxoAVzbwLgWWLE3JfAuD5QVcfmXNud0ADy15BDoq3W/mRsWnlLdT2JiOnwfKYLuI38FqxSDuBZQQAAAEkBnmF0Qn8N3bcugng8gQPce6F3Wjd4PE2SkAE4LIT2nyIyjtbb9DQfIATW+6Miq1jeOTNqzp+zJ2M5pEagMPM87iBBK+rKAI+AAAAAOQGeY2pCfwxCFaILGQ2WuXQTyJWm/AATPLUY71qsRpf+f1CAAS3J8Ciqv3F32M7pBZnSDjQ0E0BlQQAAAH9BmmhJqEFomUwIb//+p4shUc2ttRACZdZMUvKCH9E0soCNi7IP4/4WZnvBzEWbChpEUjPh6/Ln2hI+HtU6/bhbtLNxlV7f+xgCKIP2exiXuRgy+E0VA3srlP7GSE9VdhBhzGwRahbf091Cz+XsC5q28rP3+Mj3Hsz0dAq4sF9hAAAAMEGehkURLCv/CpNfYADI40fa2hDq+tbgASHjVTLkzVCIm7yIDgGbsplQcsmt6zwFfQAAAB8BnqV0Qn8MGRKzQzY2i4HTvvXpzCXsAAGcAcOV0LuBAAAAHQGep2pCfwx7E/4cYfJNGfsBewACS7XRlpEQYLaAAAAAvUGarEmoQWyZTAhv//6nin1YcGxikPACZmK7u0lvsdk8S8cLZeD93OirJU3pzgNqXov27lqvF63xYtqXX2hEpTuIrMLat3TplGZZzsBM2R9VPDA00T8KWPUfM2M9OtkiVyno2sqmKGzK1doAAAMAOrvu2qZbu7F0QIbH1nyTi+VT/wjMpe+eBq+Kb2eztbUMcSmrSKc1IoY5xrzO/sd94tgurPD1NtiixKzp8Z9u3UM1KfHoGpHRtjJdXk0WoAAAAEpBnspFFSwr/wp7jwQyLKrxAC0E4kQGqZmbnc4kNo5ALXW7RmFojACoi1cQro1HABXSRGHnns/Wj9YWbCbh8HGS44fqg4856BAf4QAAADcBnul0Qn8Mcvdg1IACcSn10gVp27mpD6DpgqYoA+GwAN1C90dkWVuaizGZAfKv0vgI4LoLsGLAAAAAQgGe62pCfwxnX1APABO2ztidV58zTwOEzUjUeU9UQosNx5BXfDf5fZ9JTitmflwoAOevHsNvCUqb7YsqSfzBVn4KmAAAAM5BmvBJqEFsmUwIb//+p4sghRiZ8UPACaiSmQPkCv1jVlyp9mjqRbExKuRBUnZGSWWfaGnNB8uXaI++oNPrGa32OTX0M5WY+31SzF4swbrSNRkcoN3VrbDyd+U+0quSsME4/GOg8gBphwzleT0rH4NRnfcpIBN9e4zYGZwCgAAEq5KcM2GgUZcooVyMSclyQxBbAIX4JP8O8X8OKgKbe58Hvu2qah4CDEAsKYDcm5bH6KzQHfWnP6HSGw6tf4I2YNCX9xVQWLLN3cg2b+EOmQAAAERBnw5FFSwr/wpjS75ZzQQUpiwVsyADpWhbyxkMmSAoATHP/EeX9NY0RQMocIFgACs8DwuHmPu3qyF3PXTY+xQAebOEzQAAADIBny10Qn8MSypcu5MZm8ohsQn9QAeB1AaQfcQe1oZPQANgwI5/4+tRxPT64yaMx/gNSQAAAEIBny9qQn8Ll0IszBLSSX6ACS8MvySwQnEVpCntO4JZ5mN1HkCX6UFuzG8GJLgBUs8O+yQJG5qJafI1OcC7g3CYE3AAAADqQZs0SahBbJlMCG///qeLa8/A+L082m+7Rr/mBCFUtpEqje0Ycqemsi2TwL3hYU6gG3dLX0quf7xCZOLBLD8YOsqvCcU5n89qVz0DYftrPNr+zeSkDNZkEs3UzC/VRWqdH+bWJ1ziM/LPqSUQDGIrb0JQ53hJQivePGfWiTBa9e7/Tg6JG5wYaHmHyBaGW63QtK/HiVqDKAAAAwN9kF05lJf0KbVdew/lJNL/DooCR8jeptE1Gq96wCf7Q3ZjvsP33a1K+AKvfcyJAnRbAl0RRKZ1X3mo2fbCmd0BA9GOxpv4pxieL11WADKgAAAASEGfUkUVLCv/CoXJDN5NijOgAuFUyRBBdQ922lDw8IqwR0dr/PrrgAiItQE1VvYhs6N7nWP0qEu38z8zYY6ydNwNYjrRXag+YQAAADkBn3F0Qn8MfuetVf0AAS4zLMTddSea3G79Tdxl1gowASX5hFXTokL6CCNyCTkJv1YL4WnRm84AaMAAAABXAZ9zakJ/DHUCXJY6ILS8AEyRRta7wQ7ImydqooWv0lHKdGPTnl7RVWHwAeKrDLg+sSpppLc1YdsAElW1MDDDkqDOOkNaexVPplcTx51BPorNo6stCBlQAAAAwkGbeEmoQWyZTAhv//6ni26f8+JsnDj61QACMoGljRy9s+ODACfaGq6adzRQ7nwYAc8+BsslY3rIxUTW99Q401c1nqMptcTx5v8DoqhRsSOwCgNSHIar2w/+7X8DZck+EhLG7dU92kLYL/G2AAB9logMCfttwsPlT+e2PMuz06ekEm5Q8koMz2dwTBJcRNSVV8pFQrQU733a1KyFMQc1sCfz7acHCsdkE6g3NKEdhAtkrGeyVt2H/S+5MnsIfDoNyBJxAAAAZ0GflkUVLCv/CovPQN9dqH4QAPkbqY3CafPptShZStgta2qWNtaeOgz/jNoJjERL87F3BclxQBycl4Xp8oSKXNn/1AAW9LnmeKcACodOgkxiJxL5X+RxFAIIVw+/fqKXGYHZKPqMhFwAAABQAZ+1dEJ/DGdI0TTLbkmw5ZOfcCWdV6bTAACZWK55GPFeLG4l5AY4oTpgBo2N6qNvibTnf3O8WcU4AFQQHc3QXAp+1YFFVWSwMX+0Stp8CkkAAABHAZ+3akJ/CySNwbkzcOAEy06YRX9juQiz5zIBvbxmioCQgoGH4XXeZqsOr5AAOgR8sP96OsElfCnXppHk+gfCmEwJDOJoCmkAAAF6QZu8SahBbJlMCG///qeWZB37cvLIADawp//Qm0dGrPvj7m4zE6bae4gCTzRyrWPPCctCy1rfp4QTWyQJ8FTA6Tcr49VXehT+RY9bYkc6Hwlwh5zjcmmEw4TPJT5zuseZ0Un3SDm2rGZjrsPdJ6Jn4XphzdCA+ag7r/ydx1N79kX6oT/fTRzFb+YMjme+Vyu/qkAt0uOajACDVlksAcFyZxeRk2s9O/I6U1iH1kOb/bigtgOF9lRUftALkUM5q/5+mYOTMYHEwmz0tczaY1beXMnIirMrtwj1GfysTgmDr8HUNz2fGIVLRwlD3ASE9HIY1Hqumzl42tBPq6sBQ2JKmVx8kdLjh3yNBIUaxca4ex2ynADhTxDP3r0tsKc88nkVcpt+rrOFph2VGZZy7wQDj1nqMK3NgSPNKt6UHP5wRggOg6shCUB2BKYoybv9Yjx0rDBCOQIjJVwF4AY5NrH54z217xaEhCI/zKrhkVqoNJlUijBt+4kvnOLiAAAAcUGf2kUVLCv/DXVfcw/RqABYNWzZurAQdiibRJENjOtUl3uOL8h5w3pGghVJYKAe7cEXwk5Oim10ynQOMlQ/5oJXx1zMkCdkBAfAS5g09++Zse2yky5Ohaufu3AFGYU2w38msbmyLNtmuxJOZagkQoZ9AAAASwGf+XRCfwyFJ4x+6bqibAC3jO4lmIMBh5xK9apWoeVNBEd/8R+Ipv+y9L6ijfpSc7Hm3p6kJl2hasf8egCG7yGXWfuV0gkagvkP8AAAAHMBn/tqQn8PmgTVhABxW7eB+ebkPTZsE2H7qy19UToBIimU01+AvBDMWPNVFVfSKb6bbc2XLV3l3FoG99h65Y1I86/FBFbv9h8CGa+uGz58txKbJwunUHawxRGanJ9AGmkcDsClQwAHk/GZfySxRfZZ8cRdAAABQ0Gb4EmoQWyZTAhv//6nlJBZZ0VgA2q3EPltMfVQsuYcF9JFVnS6z7k3+KnWObsww3haK5qH3s1ltSj1SGdnLJXNFkA7GwyNDu6UK95MhcmTKVYYdi59mQRYrawRbxAq0Y5p0xhVBRwDWuPYyQ7v8ZUYyZKLt8P5cAKYjUzZxmEtxPF5bioN0TTNbXA8qkakjp786Cs730pQc4GWgXOqMraQ5OUAXuPvmznc3M16vlQZlTRQlKUwJrgwtWk8VJAhXykQ7PPh1cRnMXmo5pZAJCIAYqzuDzmB2H/AmseIZPj98+Cqi+5alt1AmM1B4eaQNA78WdTDmSbxL3qA0g7ufJLsHhQQr7cdrLNOrUKzTqzTgmrZ985JQVNnLvMj2Ipky2GsAZffYC3Sr4sdeRspwI3iHwYbb1O8C4w8cyRBtYubpQGLAAAAakGeHkUVLCv/Eb0ogCEZTWWT1HErKmVZytsZAzNgf6TkMUKxfXNNNTcSHcq+XHZI1hvoFP7fJb6hJiKzCsnLHEXWrHQxeF0xZUOaBcP9jQElh9HgQu8IL9Xq14T5JYRr9iTc08frEp+gSMAAAACGAZ49dEJ/FEhmnHgAUBntRRd35AU7xTfZo7nWwcWcqVpocmFOQtZbaMPG7BwFVUGLaT5ORjvFbUGJLppkcMNtETOt6IZJeC+uLJbeuioRA50AGjrrLJ8B4hZE3OWJigQlF+qrzRmXx+dOdKIF1RKQFxHmGZBgAggOLAOzbi4wJHAzY9agekAAAACqAZ4/akJ/F/xQAFAJqrQ5zYSyUqtQ7jFn7MtHXx8Io0Bcltoc7Z2eufNxN6TDTfTyH94Ex1NrbWJdPiGRAZtGRXQS1aTGwINFjQkr5pvaUfBIilwZ9SCxul724VXQTn1j7037EoPeEsmQL5izINxHMhHjsAZ7pyapensxbefb35582aJ7TdrU+m2e+Q2AVl8d+pUu4v6kYGzQGFXt2+cT7MLSj/X3zwHA6oEAAADWQZokSahBbJlMCG///qeOXC97s4v4jjFGkEy5/BWcnYAv8YHydejm6L0gYrlDKPM8O9UCgHVfMAUYOEsYZJ9e74GCltWckS70geYvZyVPKbWjXjpEDkqtWK6+r9X+JKgqgYXIRhbARrF0IPX86oWb4mSXqxw86iAAtOC27XLTL8KYe3uNwgixfYS/EBQfcQLXX6Wq83KYBYwCBS+Fhm4NEB+wdUCzb6JVEJLzKXtwXvZpicPb85flT6OAMwQmocYEWd7SANeYsr89vA/xTWK3BQ/xRCSQcAAAAJtBnkJFFSwr/wvqwbOfig+5EeAHBlx8hgNehB3ihDkuEGZ/+BjJUKG1X9+DU8DLTjBA7p5Suly5idM9LtJ24mHVENZSDP9qF64k9jwImPjOqak79NjyWF8LuQxG9AnYgnB5SAjDi7x4k0WljKK33qFZtBZT0Mrkja8orYImUeaGJvvjV6IADbMAmdfX/jfO1APqoJkjRiy550BFwQAAAM4BnmF0Qn8OvTcEiuvYA5h0wOB8B6l2Z6BosS4MpmTt9e3uOsjkyUieEY6FnHkz6p6YXmkE6kK2titssjpItjMZWi4oN11BFDfuAv/RdLBt9D4aN31zNVIrmXnQNPrvcU2AieXKSsBtHmt72HBcvumBHV8tH1YTE0hz3DP83rvgbMJSvFK+3opuOAsPsjhYWTlk67ceFoETgO7Bvfh6ISPyfLaZvmRklalax5JpP1+m0PlIIBDs1EtplmDaSX4FuJu5CWQz2+ZsfDnjAesBWwAAAKABnmNqQn8HLrlf//UwBR4AyILlp7IyTqe1i1byIRx4yY0arM1A1tAoxtA4JhmhrhAUTPcdZ6RGTqAdUz/jc1fHBwDdPV0aDxQbdq0ALGnnaV+QdHQcmy5gRBmHZKqPQqKlJFQVafNMVv78zFnTsvlzsdV5J58fb2iqsGiavrfytiauCHTWVcpxrVsUDwGuHhc1nX9IlKqfWhCIdJzBUAvZAAABFUGaaEmoQWyZTAhv//6nhKlijn51CGMPPMj2hR8G5l6JT9UmgCqAGaJ3B5UhnP5k9B/N5EwpOq//xuBSIDCNeWb71c7SAp23Esqec9Qml0BRbkHwphuNltwr8LC1UcY6ZPi+XXcbdaVWWCFSE9G5z9n8yt/J5UBSCIdCRgJOWCGpXE98oJJXlIAxRD7SId5lEpsK0gt3ypH1FZVdcv2OM3i71TLcD6Tvyc7ee3ODNMJQ3MEt5tX5VzVp4d+ti6kLSDNZCts4g1rOWURUzha6q18bQxExW+59nqhzYBeEhgKQEPOM5CjrjsFmBKjr3uQFueBarK38LANEhKENxx4YAi7PKMNlyK43k9hpxAeVKDJs915EglUAAAB4QZ6GRRUsK/8FcoGP0oElLG8X2H8gAV8f37HO5XwSxNYbDcmSzwCB4fnpWqzdmmSRY4Ra3LrcYvGlgJrw+T/BU24oRJw2KNLRyqFpvtaxz11InpKREZDEb+46vRQ8OzkEQIcGr82LgvQ732cj6hb3fqS6+fVA0FtBAAAAlgGepXRCfwancUrin69a0sSo9TEMj+8Gz7+oE4qKlA7cAEpyucHV6qXa34s37jaz+JQXUohN5lngbN8rcKWVcldkj8cfDRDksbl1eDzDxqr7lavN+F3MsX/tXeaQuOlOzwwlLLQs6T0uh63ANsLlF9BMCyePE6Z6S3m259YPNV0aGgwSrpIZ9DNbCE1y9GEJGW1jpQAj4QAAAL4BnqdqQn8BySdxGuSjSTuMx/7leRDGd+P+KSAG5qEGvD3LqU4BgSnhVXfAqGHaEEMf2w9KDY0uNLIAIB9trUg0PST33x/dDWfz44YSeZCY0f5S3ja0tAdm7lCm9gYct3F3oYM5G3LWkPLyY7Moli2wxvvaVNXSbq5FjSOqkLbidAif0khlNYvnOLiIxhT5fE+9wcbak4+y7a6pItAV8kQLBqI1XYFVk4XqAZqLly2UKpJwm2jApmB1wzW+kJWAAAABUUGarEmoQWyZTAhn//6eEALF7v1g4aYkXXbu374gAEDQsWvXgqg8zFQV+FBXUIrCTyYiFd/Yc4PFb2FxdISqRbz/oglYyBwVmhKHYWJ0ulDJirkd7ua723LgsqIUxvei8srxGkffTFX5HharXKRvQ+ZTS/1Y9rWH7WcTlJdjwDnugsRXmwfl19lpNSZQhtfR1jzpKueWpaXgze5yYscY7E7Lre/HUrvolMR5/DzKbibY1+jChgiZIxYxlUO7ROLXbx0snQ8N58jmKoMP6uKfs9/d9uwwUQq3NOHP+Pvu9fB022bK2sS29EDD5+lFGkasszgTBecHBwPSgEeV0lj6G+IijRfCuMiS1NxcH2vS8uON78LDZSWmUFVV1pz/G7uPFXOrhbJw0KaoaBxpaRyx76bcbz63Bz6gb5bhIsYztyPipbAR98jPMRfqn8o8HfBwAf4AAAC6QZ7KRRUsK/8BUeTQ6EsAEdqb35eJeTXYXuKm82D3dYW42jZ164JewWEDRMD9iBoKqjWYiYP/b8gjaLKPu+pz6G/SpgHPEmh6hrhXKz7YSaLVa6v/c2/S168vdQ4oiQqN+mw+THF1k+M7rgiQMvlDwkLvxWe6YmiFh//l1+aAC7B0LW7mEswjSD3fdI7ZXWmyQZv8jtanTDjOv6s9xoFag7+oXVbgXCKa9RP2koU81xFvJL/5DTnYwFtBAAAAtQGe6XRCfwGt859ocX8AHBj7RrGxTiTbPtVdMwXHry3JmmRowJLIS9Gf451Livnq6zMKD06jUNVeRDLWR6arrFZJ/KkNNlt1P1dRZjSHI4QClWlCNBz6+GA18mXYIBvL4tTJlOqfc7cSHig+o7mIPi0a/dIpCnAYvoJliOHrL7QhbXUIDKnMObh9/dzqtvdggldFAYNqb1XbVS7e+e4kWzGSqaQ4ih6j/MHIDWsUgyFtoVybcd0AAAC3AZ7rakJ/Aa543z2b21PW3o/fHKBOAg6/kMQBCIzh9hJV+olq8KtAJUYCSy3e3jfZrwlFfDhunGODp7udHMFSEwvNEfXVtVrrfl8XSImHEy0Ktx4IGeyQTOBiDHwnJtuuJkurPg5z06yN//3fMJpa5FJVcn2NSw92L584+cK8lkbyxoceTIpGQwoMC7Bn1+tTiT5pTL4JMK2qwIt2dEPHjxw9y4ZP2gjoMqi5D40vY43DlvkZ9WN6AAABREGa8EmoQWyZTAhX//44QAn3RItYorrKBplfNXvL5392Som0j72OX9FQBceI1SpUDMWtouu4lETcCj1Y8OostJImO6Zyi7y0b0mzZ5SmosfKZvSw35oFTUUhFGfbw4EQMhnPuarQu7P9fLq7gASfs8KaMAkugApHTsUlev/nm5TD02gF6hxcsSOoR1cX0SHPvO3z/pilcjZXZRh3n+Y+szXRJn6D3z3EfpBYPMXtRySQSSVa/L+bV6lYdfwbvFOd+x8MUsfzqQxxsp/UZci5Rjosvf+ixrRdtNABfB7CDvs2A3oiMZp61abOZXAL2/TWCAtGYJcdbYzvI3CM1ivATJ3i1OisZhOQfrhj8c+F2ll8YZcvHl1wlM9zEL3AWjlyTR6xBOLYCn9rKfi423iV7wUN3c491BKm0xf/XtOExK4Z0gCTgQAAAMlBnw5FFSwr/wFR5M42chZlRRqAwRrpYv2LiYLhA6JTeER+6XdYHk6zKNJGGRylrqS/6+qRUjK3aXpp9LS9o5Cdqa7lnWpdHoNrIXPAkXgpAro5DiCP4iGwm/7qnMOMn5ly7duVJXFdwklrBW2oi9zCp+mjBZuARgAXiPtWZCb6ef5PEecSONzfr4WwQA2cXYu6eSsjMoRcrlCsjOfNljdKN+og+r9+XtxMbsJgkIw6NVNpiaApwYgMmPKthda8dRj3/pxRjZ9AUkEAAAC5AZ8tdEJ/Aa3zkyq1oweDUv7I8qA/Ir9ki0MAc5r6jVnznYubdx7Tky/7As/cTAC3jplckYxidFIwFBy4Zt1bek9BMy5tGG8pkOMTJgl9E0Gpl5LWAXFRAlh2XiYBbdDyAH9uED1YQC3pzuRdQpmu1NaZDADScOnD3kme6l8YyBhMxHotp8x0rPWIaPpLPjFz9O4EJ69kQcrdP/DeO2/IQT59iQitObeNL+j1pSBbpFbb/WEqxpJAVMEAAACUAZ8vakJ/Aa540wf2rP5OojG9vInpn6eOP3fjutbqnM0fwRS6s/SIASQ2EWNv2Cl8/YOsz7Eb1QjCDSKpebXnvPKfNjNBj1av1W+xg6mznQHj1jBvC7PgDg7mWLSi414i4RJ6qGEuVTfJVe29UpnQQSWjLbpvlz9U8LvlzIpUl2RHuWhTHHZmRUghBXvOBrME9bSLaAAAAQdBmzRJqEFsmUwIX//+jLACM8b/BN2gABaLTlD49kbwbBt289RN2OYkRfd8gVdxPP1ubZfdt7+LUQ2gGDuVNZJhetzo1N3l/jbs5AyvLvw5dcm8MkZcnfT2/jPz3egzmKTTR+nGeI0LxpeRvmeipCrKOgtYuqKDiGkN9mO/SHSVGCLMxjjymeAbzemiKy0eHBYXNQ4z/hONsVkPJdJbiMIABqf1usaTW9qLpoWBL2wG8Z6hVU96us/2WyufFFXLxfSj/RU+1Wa2Vj682MuLlUXzDMOhGfKj3mqMeQdHywbom/jl7WJA9HE0MYycDLfuCan5RX01rqdcKim88gUPoxRURaZrcdAKCAAAAOJBn1JFFSwr/wFR5MWdzldCBFmbPZwFNj/IQZY0WIALiRwPgcDp+RTiavp1V+H8Ewp2YNPAsvRK7okg6MGOcaoVKaotTzLNmhWibpVjantTUP4F7eRAdek4ZlpyqFtchFFFJLTJIWSqXqC82oV3EQGYP3tcqSBCD45T9b2R7FW3Z/o901qB2zv3L81GyrhCKy5eB27pVy5sD3dgJig0iioHMIvBvdTtiQwj/A7AJN7hyMeXnNGVaRTkz8AaXCgHmtqkfifiSjlMQlJXi2uxz//9dqndq23oOkDRl4Q+GUpDQR1RAAAAuQGfcXRCfwGt842kAj3djZ9hcQ3TLrUroZ993YAFoqbKLDzB/JjEhgJpjH2Qadjz7Fl0HGaiDzJ0EV8cnQiAiVGA0MZZIuJdwobte7rj1w+QgqfbbzkxUEcG+8fn1gEUbE9cGBsEk6Ejg4wfKQe0Wr5oZo6KOM2OBEcq78YbOC7BeEeZNlyii8pjEnICZBNvKqbtyZlK0BYpqqrJbz/9qnUztuSFnGAcM6cPxfV9US39JYYeE9H+4OmAAAAAvwGfc2pCfwGueM2R2051sC83kgCtTlr3ZaqCtE8dUFeRjKKl/+5NlFLBoc7mfNK/oz/wI41yir7Md/kV95/c7CHbLDNk8VHdk9FmPB5YtKM9CUn2LjobcTTll25VGk+B66xP+rBftGv3GsbtQKrg2NJp3zugPL8YCfZohC0khzJCoiAZ2fnZJs9xmw43ALT43p3+DmhbgADbhrfZg3me1LfIECWFOfnAdVanmzcGrBUh4wts6FmbvFCJnPu0gLSAAAABZEGbeEmoQWyZTAhv//6nhACPfI2Djruwugesb0c3VGA9WXgA4SJnK165J0lfjyXHt4Btdou2e5vZZKakxR4YY44cXAMqZUHvPIFyaSzQBaturECoAb/jwqhe9I2LS0KPDLB0aN9J6J12lqhGXDTSTKv02FDIbvJQv5iyer1VGhKXtSUwz407SgSsbCKPO3PZSpiVU1tM5UtFGkEagoaC1OwpaiBDyjcIcS4RhzR22fXJ4Om489zamALCvkzbj8bKr3rz0OTj0dAMPTFBQkeR+861ZKoJBj1VCs3N7/mVcUHe4WEHR29dgjt2SSZl67eoTXqXbpJZoa10BR6x27VPc7kbK4Q9gnuek9e0YB50fgQ9F+gJMsaaxdRwDi071eXVaTgJPqH3FuKhW36G8kotwZ1rph56z8yqV0lZRag1WuL5ssGlqSgGBXWNNK9vsMGAT0D4LGgPF6Drq8+MlIFNnTJL4E7BAAAA50GflkUVLCv/AVHkzH2cC2fdiAI6jkG5yvj/U939YuAheOWQMwS8E+E0m+6L3KOCYL562yKzIIuMYwHSKh7NUMsvtCwY0OIGp8M7yHHP3bMtwSvI6q3SGRUT2A0xe5fe0Vn66GEBDUOvwF98+ZomaY00LCHh2Qc0Fy6f6htBJQhh1rmFHZXzdMHd57iM+IIykJfvzmakjMFVMtfvKa+6xphFcreS02lHjQSbjmoJ9bUvYeb5ZIKHyDM/HeNROZ02sf1cJRcJX7VnyjmBMdPjXzt2llCSInK1t8DpTeiuFTekREQja9RUwAAAAOgBn7V0Qn8BrfONpAelvvlwL0JmAOJ303aDJ5bZBuhpRA5f8vxClDQx4ZXz3MvStDxnKYAq1UaE5SlAg+hKuXav1HyFkxg5wrkYK3s/ZK+g6T98qXBJcqqmft+DRPgP7hihOxsSv5i8PJz58r5iF86VR5lToLW9vkwC1U5PUMXRLxWAo6lo4dZl3pLFZu4LCbpXFRTyw81fj3cASfeZWX+ra/qMsVE8aTPLcifm5jvlZ77RAg6Gn4aid4HxUDmxaCG0TmqPjJKPqA6Wa5KFc5flUhs7P6konPp+NqztMpfjrvz08qAnqIIHAAAA1AGft2pCfwGueM2R2zZUAYx0CiEwjRvo8QqOqnq5O0uKuUU2edR+WQAdAX0vC6EREvK8PiiUlgXgEl49tb2qTy6FFqgF//xkoi40EC+J2TuGhhOhCJOOmLyJo+OiWX+ZB6lCmgkwCS98KZqlR7UzppsV/+BcqBM5l4u28vLW8QstfhHAZSul+PF8ygDfJoxC8TAJKXQ+szebsfWotLnkjix8ZHMCeA2mj+ng9+ZecZ+sNvjCRd6I7fNuyc2KslZZuGkgQESlKha441ZB25Ob9WQ8Eg3pAAABQkGbvEmoQWyZTAhn//6eEABf/Y7158HJY+ELXSnYeWkiDPdCEoZeBN4tbp3rM4yPx2iLrl/6GDwtVG868uueyTW/SGamA+WTAGQGdB2Ds7ovSyhqTtK6Fj504ZG+7pZiToE4eP3lVKIyEx4O7TDQA2N73GUqmCVbW/mTzUqmgINtQsVJyGa0QBFnnU57Qu1a3BTaZRhb8bdGnvR/2eDwhH/Jx9n8Xy9FK+OIlbft/UI1J0xNGC9peLyi2pAYjMrLoXxm18VWlaVfEf4PsPzQzdHG0DIYdbXzcMMmBQ8Lb9XTQCpximwPJZCdtzjH8WAoutkKzF6cFFevN4wptjP8cOGz/P6cy0qVAEMvDmRCBoGWht4R/ULIHI/lqM1fZQHU7AKd9sj1w4untQtese8NMaLN3uzLbFvVZLolX8SpQ3b6YXEAAAC+QZ/aRRUsK/8BUeTMYEhnY1QqO+CJC8wA3Xlt1ikG3Ap+Esgxjx3wIXMOnCg4jEFRhmVXCsILP125V1I/FQSa3uUEG/rM/901TWAvenU3bK3NK1zUk/K+SnJZBcdjyTOpF0qIFsE9Iz46uID9/qHWGz61JFH/i8lNw8YKqodB9ntP1H85T733TTmgiK8lqrqgVckNN3EFtKq0MJLg4lDMfahdT2C+VYcWe3NqA3aZRY0/gdzwW1un25Cth/iDKwAAALsBn/l0Qn8BrfONpAeOogNBT6R6lO/VQA2LKDY8gT0rXjw1sKUsy6kOEwFF/dyb3eRqpR2J6A205wmz9WV88S1laBk+8eK+Anceig0eVmY148/YjOOTjyyb8cYnCao4XQcl58x2KQzkL86VEI28TJx7h5uyKQYgMtZ5j84D+DLnRCYhBtOcFNQVv/7frotMl8wASRg3ZgGppuJe0ikM9aA2O56NV3yCQToN8IVUA1BoeByZenZgCSj01B/gAAAA5AGf+2pCfwGueM2R2zZRAbgeZU4AIPObUQAb4D3Om0QzKFEEUeJ8tPibbM4kc/9TJU8tCPMaYflyiAcJ9cMn6ZKU7J2NW203co4JdWduFhXHw/ol4qjzPucThbuE40F2vfVsYmdgafJvs05L+vgXA1sQ6HUkBa7aHBGJjuQGgaCfwlxPeHqmctYCOp3iQZsgeMtxTSsfIVvcxd5vdtMLJkmTsm/je1VsLZRwGUk3psJulfuCN7qhIFaXS4FRcCPAo/feXh5XbZQrX8DCk4+71ent8+VAmN9UJJRMT+N4ebY6keD5gQAAAQxBm+BJqEFsmUwIV//+OEABbOT7Lx8KnuUkDdoVsNLuo+CZByU8Z9EgDmDcusEnAYMv87M4uAl0Ps8jTo2Zm9/C/bpxQcnmVPlgFb+cxAAqnEOiISYcQzKKKwzItfDJ4r4KSWwvz5orLKRAiZpeTKfqJDlC/85CNC4odFYqX6f8oPAT997eM1IX40iEf8SKnX8F+CtNY+sBzfaJJqyu+V6lLyTzmJ8K1i33ZdXxYLJ3r89hOUjCo325k2hEPwS8BavR4JqUUc4BsNx85T2Y8/XuAt7aLTZaMAAJVvCTGl7A2E7NuOApKYXF1rdRBmF0lhkaG8OQUbv/KJjToAOfkTHWJ5jvOst0eUoEAB8xAAAA4EGeHkUVLCv/AVHkzGBIZ2NTdjcCGACWIAWHi8nwWK2mLdgvWA+SnmYxTpEZ9l5WxBfdcvv4xdwP1ZfenFpK91M7IbH+wrEpvhmcDyxD0fMC6fkfNwVoDAixv7jwNGIX9RjpeXAmUci4MsKIwtcetA8VT3Jwu73TkbAUgWvDP7GJ41CGlCrjDA2jQ5+aj/i6xoktT87tMPnoUiTCF/8lsS7j+7gDpdG1HohBH2LLl/XOzddCQ77WEvzeycXey3y6a2QQO9E9B1G2emoPWUkm+QcBQkXmN13UlG5xK8XJLcQ8AAAA4gGePXRCfwGt842kB46iA0FNeW5vssZEsVKqAK7839AMVzvU+phbC/eBelGbI/wI8HeGbTqbeMXfF0gBarOfZEQfmORXFG2AwCA3zx+wcMZnU/62lnAUQ0+zfINHNUoX3reB7AhpetPf2hE/s4ClJfqnkXDV59Wm2KqyyX0TSdtUwvib8Nrejrtj/l+Nz1/vT5LFTvuRWhY6eTYfn3PwfxPrCmZNAthllxu0uecpoqddJqIoxlOEu01ueyyawHZiCEoxQzdbt5sKazzr1ZCQ7Z0HvILOk3/gAUgtmQ0Ka3+0P8AAAAC3AZ4/akJ/Aa54zZHbNlEBuB0AeCleQ5lsQIvGUzUpwpCfeIQAqH4GyrykFY9zUM8Ksfz2FeeodFdGzD9MLs+CjtzB79w8WK2zYIwWHEaB0UEQcOnxpAribeQ8gnrmAG6Bq8sBuum398MCUeCbSEZ2Js/l4HjgY7WLX1V2Tn9+BKy/Re+hekiI2KDGHIC2Mgatl/f9+/y4VnaztV7eDHNbPLw0NqppmrB3+tm8i0nzmdB5q79nIDphAAABAEGaJEmoQWyZTAhv//6nhAAI6OPTP2SBU1LRyJhfaznrvu6qkUMe0MDWNGlnr6m+frsWDnhDwWqQ3/vV/Xu0WLozx0OUt/2c/85Lo5OHNMlYEdj3Gm+AF4u1/wXlQcHuTxra0akYnRa3FY/ZprUWvNcnnlI22zM3PZAFQ85uf0PccEQp031VDn21BuDxNTzAI5P5UP3p9SUDEONeQt1OQX/usuj+XH73KlA+kb7Ib4/rxqdyUQfmsn/PuHSZfgBkT+xa8+foaoPQYnSFa60QbQ9pvZw1RoZpb7Tpd703Oyifkc2/hfE2RbhBs9Y7OM/fisebgl9C3/m762/KoWfoDUgAAADAQZ5CRRUsK/8BUeTMYEhnY1C+HntxFZPoLOYm8uvABdBNa5dPCAZD/dVPYLXJYBMv/X2j0lQzYEj/LBdeHwZDWJ+D6pIyfpFpRP22bl8cBfB3m+1t6X+uqbIATHlr4MhBBCvnJgBzW4NERBCOPCKzqZIdz8b3DaJZpcdC4vuGe65zHZiCA2uxxOwvGZsa3EvDFdlBg1K81Uj58XYTK9gi3Gj9SoCBOObqaQZBz4BSM/UjICZj8eB40RLm7VEKQKSBAAAAxQGeYXRCfwGt84qwkm6ZUd9RAMHH18nudABNXlXGyOiWOMJKW9wxXVq9HqrNV7f+W+VA8cC9K7erhSqHMNboYW76+6Gtt1Jv3L+paMZxvgcELvlMeVz+m875/j1mrsc/gPjC6otnOWktEDLP4oRpJQafueOhBlUCrwjJaAB1+EWPPh3NBU4OH8ZrFeA9CXtSW12uiLMmoXk+vqWkm/Wlh8iPlYicwc5M61EL8hBTKKrcIS9hVNArovvVoZ5DE74xvVOe0ITcAAAAuAGeY2pCfwGueM2R2zZRAbgZsRhBV3mjYuh5p4VPYkARjexfvKU8tWcqyqx6Gg1wR4+Zeaj7WuVcwo8ambElnccdvwJwAtFTNk+4pZy+5zCotZ5kXK6TbL4ULo1DRMegnWB6pFGtrI/IfwmNjH4Fp6U9Yuikq9S2PP19RGBP2qYYq0IuJ5wEDgilyThe9Sj755qTPLIjpzWpDZVQ7rR8hv6NW9l1vbT01fLcgYCrqXNRa6zilzpmEYEAAAEJQZpoSahBbJlMCG///qeEAAj3Tbplk9Lf4E1NgATONl8P8Y7cKpm1VD1j0IYOfSdqPKpCsFxDEAP0qCQ2ZfRmU2hJdI/s/7o9jZVJmslMxB7vzAbn6sOfPcYx+DQI6iId2rJtqJdNOe8NiM2lHU3KI7qCLZ4ko5XsEA9hXBP/HH4hfTuwATSxV2noTfINONTAyyozVAneUPZpurRIVad+9vSoh+PH39zNuJ1+KRf6YxgTehsbV76DMdjdwMFhxM935GWrCEiXmwVno9XNvb9tJQodewPWmUqJh5Fx419O3KDXpjm/EehvW6/pKiXzgWMjYCrcgKGGFyrhDA5Z+JGyGjJf9eujE2BNwQAAANxBnoZFFSwr/wFR5MxgSGdjUL4ec9iyfwHHHvcDuflQA21VfYTNMmy0m4IjQDz1J+L60EPpxkbln0cekEG1yk8UAJw3Zc7vg70+HpWZbYymwsTHa3Ug94n9Dgf49FpHYgGxbw+YUxVSoH6dwQ4LwRZTIa6RVKVbbhMHmA5EwBBNZX+ZFDkyJpNQKziyVwbO+d7DPJqZaxf6W55vTRSuRGUsPFnq1Nlm8rAVEXw667074VP5Kozju7k/6UPBfPt5Q7Z7BxvAh9YoFaE/e2SOCYxFCovE1AkJpIe5VRNxAAAAugGepXRCfwGt842kB46iA0FF86T1MNQsTX00AN129n3PcE4qBlnjxzicYotrdN2z+Z716ZOBGb+uYOq/64j03Acln10bRMB4Va1AiVRFDyABw0yww8qTogB2anJV3iF1w7rCFQ0yEQBADt5uyHlmNbTm4XS4OBECZ7p/NlNXYNcxjJxoWDIHnnd4SDxRzIEQ4tYkZMgK7cwrAKz76eIYKTZWuC5D4E9zyH3OH8fYwx85yUcBZOG1yqDugQAAALsBnqdqQn8BrnjNkds2UQG4GbEYlToj/ItcSiAISjZ93X4zbilC7/roph3HimXbytw7JrVHfO1gWkaqWwfsLFibUhT5uJEH5cqdm96FAAh1FXKEExhUSPRfd2oUU2ztDooCV0G3cQy3jlHyguq4pqu7TclGsQEotuInhPxf5Pn2RFQCcHO8ACx4K7aYC0Rdmcfvmh2nAO60SuaWypsNzEwoDuCchrT8VZ5giRwaszvTbnflG1UY/yd9YIwIAAABVUGaqkmoQWyZTBRMN//+p4QAB8vZU2soesALquPWP7GNs/5LB/XvKRN54gEcJ2v4pEW16TtkG3E2tyLCIza1sHUkZpbYtYWn0jyqhi4EXtl144A+lP1DydAzXcAuh0R0EAsj3ghp8X2JsDrR6qMeBheMwbw5ZvG5mgRI3sJmI0dFhyfRKZxmOIn/e78wvFa9YmJw3GzrBHUa9NzuqCXZzTnY9vAFeCvDsLRyeQaNlxyoyFSV4Fw6+EVFvw/CKr9+QXyHuyZai4vmYQtbEt/x45KrbUT5u4w1PUybN8fPV+DV2ls5z4N5SFQESAyRKwF7qVQWs89u3PN5/beBwtogNhNQqajJ5ndxlCjxV7e3tmA1IzqFjlp0QzWMr9c+GX7Ja9R3nd7w3FyfiIqbTsujyws0kW3xHhVhLbxQeHRvHasiQCcGEUl9bP+hSSvg4Wr9xXD76h/gAAAAqwGeyWpCfwGuveQIHZtphsicL77Jn7PdnQvSV0O31R+3bEQZ4QAIdl91b2YvSl1DMfJR/tLJQrZyV1K9PLB5/+fOPn0bvyXoYc9FYzq6brQ0DHqP27119blKqWpGXJ7RGVM/mwKTND4uAfaXdEobPu5ZvuOiyQRCRgIeAmvKBpwgaFkCjt8zhvOLPqElWPnglFOR91avkbVu/3pJ94nSTcTpCk1UEao9LQmD0wAAATZBms5J4QpSZTAhn/6eEAAdzkpABsJOJFs4N5QltUNNB2mobIsP/DrEL/FWsn54w7tyNcW/wr1U8/9rEe6m39GaNjWFCSAmMbZ+bU61TK5r8n/SKVcuzU6utm0z1fAYcFCAUA6/bnoXQMyaCf/hIPUBcIqjkoI7H7prA3hyxKgnuCR9sHnL3rZMdaTJgVd1Yk9xtQkq3w1WC49MN/GBPCMQXgvLRqpUlRvABS1vkWvC/FfWjxiO0J+Ja1kihL2YbEJFbKqKQ+KkS9doyZAk7MSuX9+EnGv8zo9urQz6S44tzAfkaVFolioI5uHSz/RvT47Wi2sHGXGB9V0p+h7zXkfj9n4YvndNQj+utFDA+XL55Mpp7wGUVTRC6sJq4SHmp2K0/zPUV51lUbuzX6SDs323eUiC9g7oAAAA3EGe7EU0TCv/AVHNjMsmM7lljMSOvjbNGmhYXj+gVhg9klf6RABs3YvW0ogs+URlH1qKZrS5XDXYD/Ah0GEpOcHjWqvkpkstZk+yBP45OcgyAxmmYT+zDdEMosPo/bY1V5Wp8TgZFnSr0ak63bwLJoCiXPK6Jg+2rp6vSO0GPlm4rBCd4uoghLiPNjb2z9psT0//wIh62FdLJxzsW0ghJCV7SXZodl2e10iS4Q5LS8BVcT0EAXQ/2FWLlCPc6cpKXMub7XE5Pi3zpPSTdv2tJ5auhwUVCsRvGuQ5hiwAAADQAZ8LdEJ/Aa3zjaQHjqIDQUXzpPtBJAhvs4DCdA+J/tSAHFa+bkScKqKhfk3hx2EaArVYfyjgWeoSpR6bbmbV0MQFNMuTSboHxDqIha7GB24GoZ0wQXkGIXkWfc2j4BkW6ST7sxv9V75V1WECBNeJMioYz7mOjj0+M+hTWD4MHTwmqksV1dGVkKh6GiUsI7Yu5w3kiU9KxPPFNVUnrDaEpr+i3DxVlEdrIFBRjip+lssx87b74SLecUXoaosX8Z28EmXloWnEL375S3YDE0EGZQAAAMQBnw1qQn8BrnjNkds2UQG4GbEYlPf68p6K7d5NA+Gh+4Box3cFswAIgp2/w8V+rrZBUxHXvdLOlZyycKntmq9LOUoN0oSuxlJX9MIb7vQZUInTSrsmZW+BhXTq1PT9SxXBKkY1YZjF4kd44TQ+oxy+wFibvi+mvBLHn2a45kx7z/T+KDGj8FgykADediqSWnFKFbp42PsrqF7Rw209ahVZvWZ+PIqC5wZ+0di5Z55riGPNyBP3juzeXJyBHIeJpqN43od1AAABEEGbEkmoQWiZTAhf//6MsAAd/hOmu+pinIseQLCpq2AACpRjqoyYh7iNRikZzK4+UcjsnTYF3dXHJhsKUSo5f60OtlXWT4VovjHYHYZULGV8lPsHHEzCSHtQLrn1JiOr9NC3jI/hN1UIzXBSU+WXJjrUBZRLsvHj3+jIhfQnbvJYpHqpxG+WbSnW/7yp0W7eWy2cwvxV3RLgOrF2fyDkY1Qeql6vyprMW9E9l56o0/syOUE2xiGHJsuQDcO9zLnGBPRCqN5OwBbYxp+0q5pffLMUeTx+q7DfEBKmVfppN9zaIyHZUTPxvkb0v+rgNMWGiDJHR/Xq+byUIgWNSuH2RNWQ/EdCdi2RORFKaujM/+z5AAAA9UGfMEURLCv/AVHkzGBIZ2NQvh54s1GurpEQ0fkhZcEHCVGwDRUYHvDZvDkjkHyADa2VMlhCdLU0int0xZrKcPeh3aRBgw6NWJr4+C7qcS1HnGom5Ss6vpw3iDvBdeCOg7R224ucqsALTC7SJuwdbaiUPACkhX09n8wW+B5qSjX4ZZBbO35w/y4nQX8YKkovoEk23VsrFUlGrX3hmPlSislNOW4oR8AgUK6v+QIxysrlrjQOpEW4wqw9patA1aEwaGJZAz4SNXwxbSXPPGOQwxJT5CY2HEumYdgaTwvEvPxaM7CjG9LCi0vP8mniXIfp/j19cCJgAAAA2AGfT3RCfwGt842kB46iA0FF86T7ikEowE/pJJ4Fh1UdoVOCpgGMdVkGIANwg6y9x9HxM8YAweWvPjqHwhOP8vrtRbWtFZkIxVFdZtot43POFbVYV/M+wGq7iA2HnVJo9vMue93vmz6NxvfyUJr8jZ5D2oou1OM3EejVqs+MnKiac+6vDs3+ohwao8bdvy0Mt8xYFM20Qx1uIQln4U/7EDrQ9jI2xqLcS1va45Tgaa0WVmFqbkXKn1DUxzZ6WdPQUl8k+2XInEkTBV579V0ux6bBw6dyczAXcAAAANsBn1FqQn8BrnjNkds2UQG4GbEYlIS4/sH8gX+vNQBQGfcPF7Ld1gG9JnAg2bHMsUDawtKwZTR7+Th7nZGJULJZ4gIwu6TXXNlrmwgNWC8uHbllc+J8NPvGQsKcSr1r2dTzHnwe1QmRdQvi899pPNJJHrw1e6a8N/Zuf1V7sDGiAwIbN+zlVxUuHxoRm2Cv+ebWW82bcW0Xqw54Nv7qyaGqjL8XNsz8adg6VB8rEPJgM8K+4T8subas6ZGiuueuTSELRIwncaiKVCvkVkYHFLNKxa1nKzwkPdXQJOEAAAEbQZtWSahBbJlMCGf//p4QAAtnMu6HACo4AaoZnRwTRaeb7q3YU3Y3Fm4Y1k8uNB9s7J3qNK4XKdY+A8jju1Aql4XqPRP/uhju86+ngWnfY66EbcuBj897TiClfqo0+lhxFom6F9WpSGMpO4R0vIVnOCB3hZysekxSkZqYQRk+LqBnFP5X5QvXC9l0dYruOZDsOzsE4wxjHGHMtPUjIChSsZk3uxuPJpTHUA5svoXnt3Y9rt+O4OBEYNEAbinahfR2f7jO0ahwe/tj4p9r5LQZul4sDBankfVk4z/V9YXwGkLXHkOpPleF/UdPgh+tkxqFmg+FPMwDlO/5j/fOzllBW6hDiZCVAE3Halxaj+W8FwEuZt3DPhgUwwDKgAAAAN9Bn3RFFSwr/wFR5MxgSGdjUL4eeKdNn56ucsQBEcS1y0mfKoAc5PWs8vsAEz9NNeCA2Ld9aFrUAngerkjM7F6wih2S5eti3Tu926zjk/wd67piIyKN7n7CZcuQyweR4/5PrBCVexxju4JJuwI8MFK8D69uZRMhLjMPZzDHHyttjeas06uZB4BN9AfDIg7fq82bRTIttiaLL604NR72TWFtsGQnLvd9IDc9Z+5U/gdc4NuwxlzaScwPbPnUfgpw6zn9bUNlU6+DY/oROdrcZZhu/oEcqPhzl/mj1Kb1SDpgAAABAgGfk3RCfwGt84qwkm6ZUd9vYQTbjuCsAHR+lLN+xBiUIJFFVgQLxlrt1/nE+axoY/bWEbSe9VnbIfse+ejQUgY7Cr9P1AXeh+Wsf4zXHMwMjLTF5BWoXLwqcay7maAZcSarsQSLCa6zxs6y0vUWVD2ti8iQXhgjr/Nfus86eRp+iws0wSsE5XIOWUTz7go1ZwhCKlA7chAT/eioWaqm+BJacbO5ttwoyEFDtZ7P7h8nfyVvywQ0GBFF6JM44fRRoH6xaCpYiQJU1is5Jl++9iBUCsf2fucIcdm+9soVvYvIUYNoa96JRIDIDSvnP32VJ7ubX3biY2ehkQEzcy2oDx4QcQAAALABn5VqQn8BrnjNkds2UQG4GbEYlJcSo+QBAFVhUpcAoid4Euyo5JCInOktwH4iA3pw+QuriuHFG9qEA7khbcWsldRTyKR9TuC6FRJGkgJsO9VuIhUGfhSftzwDUs9C4kLQs/3OlSS4/PZuY57L1V+zsICu0dqxbLcI1Q1hU8w63zKjUb7IMeaMFRaWYzYRpBYqsU+RTrA0wgSYjQtzQR2Cr5KL34IjCZYt20TUBy5IuAAAARhBm5pJqEFsmUwIX//+jLAAC3+5oc+w8yTdqt6f3jfvQA1uwxhF3ZbL8Ab/4remKICWiaEOgQwM6ucUZnVi9GwmhIFro6CIGJ2IYN12HwDdJv1CYlDWZrXA4TCj1kDLMI8chVD2asE30b0STtwbBVIyA9MF7IVLKv3db3veXS869wrLgOt1R3YuARjYZgu1dZLOdoRWOdW5LuStYG9pbiqWNcYs11SCBHJxPq/uJIXNryq0Q2/ONN7tA/BI36RPFxQI2dsyQV+DFGM0YIbIZVxbxSUIwy0VIGF4ALqhnXJkuyumIe2a57f9fVcmHPlvTvmgOTWdPzKSfCE0TlYSlycymuCprF2K/6NC/Tkp67pNs8p1H9SRDzBhAAAA6kGfuEUVLCv/AVHkzGBIZ2NQvh54qPh8vI1troKE/wa4qREkgByi6Hm4+/F6DdB3O9tXRbYXrjOzG2qW4XcAS10ZhXYAMIvy5t0wrKVarizR0UYr1hzuv/mn4q9Gy17R2iRCX+oUg6gAeJY/SqTHVfvL19Zk+arl/6JQJ57EpPL161Hvg1BwxKUwMZODgGaTzZx1j5HnltBRAVmo24FvURX34ymSTL0qjCkT3kZxaje/MMR3q3YKA9eZfLjHlqRo4Iq2a4vwL2gvrpjI1gBZvu5Snvwhqq5maus5jdm7KZI4cmHNK7C5Y3kDjwAAAJ4Bn9d0Qn8BrfONpAeOogNBRfOk+P4l6Cwwhn34+DfakAC1LLmSSWOtKF+CbJXRGEq5jDao3DZI1EQ8CiW3tumbiIOoFgfK18Ccisqzq3jfkjq407McXvukHXKfSBRFsclvBhrPOlmG0ajlUEEaSR1Wopj1vK278rA8RB5vvu8XfEvWkAN/bY1b4VoDxYBQBqefxi4thoDTONcp6gAlYAAAAM4Bn9lqQn8BrnjNkds2UQG4GbEYlJcSmmTXspC2dw67cRUepsmIhTg5fuAB+6fwsb2YvSi1GZkrBi5B12CArP9hY9EtuQ6CUR3//VN9+1FF2pxli2A0dyQnrAu1VJ8lQMze0TrYhyRgzqiYvmID7tm9XhCTtWjJeCxUr3RM94PrcKY6mnIb5NLvnhuO1mcU1BlWqYacbkrVXEqEnFv9EEhkg2GPMXV6nzD7q3yc94jcqytvCQekRDcU7yuju4PcrF7oeXva5suVaEGjaAD0gQAAATRBm95JqEFsmUwIX//+jLAAAer0b/Pk4g95VDEHf6gfYiGJSlIiX/DczuPQBBKw8F25vamO5czk3vcPKyo2tEwLCK59i7sgPS9sYpXXjzQxXtm0jU8Oy9SKJZcTON2UwMLeOgZkHj7Ga7afGsasxatOgHryjTo33tcPNB82SptLbJDimE0EWmSMmtslXL/xA6sm73BNk/cREwwq33O/zPuj3ogIm/bYlBDB4Kn1Mr8Pt3nWlEjtSEJfm+vgkxxIIEHwQBj+i9GqwAH3mlMJHuXoTXMoc+fF57cSSkywgbPEcqWBN0oUcLqY9rXgCMgCP1bSGl7QLzN2g9T0cHAHkQxLcp4AXH9rNWiHkNydaDs4Rg1EzkAQnTnrxfa/sBDa01/H8CYWMl+nqLQdsirGp47uDEgHdAAAALtBn/xFFSwr/wFR5MxgSGdjUL4eeKj4fIhkhPh1pf7pp1VK7DNQAjI0phZJJb7Is3RzLY+Y9FXWd99/G5gQl2H9SC+zUPR6mV3tHDrKYiTpNqVQQCIUeG2UrPFZi+1J+tTCKtBs8vbJSpEFNVu/mKZySRdwfnMNR3ry7f7hywTT4hkvqgSsUi490+sAgcqRtSCpBC6O/uT6jwOmJAM5o4V88CxvcMD6waHv8b1Al9OGoT55UrADHinRJQEbAAAA0gGeG3RCfwGt84qwkm6ZUd9vaOJMUKP5e+cRwD+PZW9haXTUMIARfDUs2P4OpGdHsH1sybgmXR1wJO/s8nvWY/+irLEtnzH7oG4dqgtpclQ0H8QnmcQgKzoItcOoIHsQznglk+YhjqhyxaxsGPPNYlCNz3waKTrHRd5CMkGaqvQr4H0h1OEs4pDQVJjYLSXhHFxja4y65yuILMOADRWihK/BGR0nQexz4K0w5uaG9oZGgY74l5lDCczwuuwNgJZiVrtGc2awW9jd3WqknxClZUyZdwAAAN8Bnh1qQn8BrnjKukJz6ipnt5oPDxQfneuR2f97fjMdkAP8givl9R4xB5fQK/q3oY8qQ8PunnADay0tz6Uzq9QjiRGYbFz28o8HHUcg4IdUDEnHIL+KReiDo/Ca5OKoYnwJC6x9NCbOWnWWBm+1qvp3mwCH46QFmw/cDs4nl4LtlRoxC+7UhQV+jU3IdSwUi7P8RMvpIGp9HHpVJ1Tv9Sl2Hryhts0TRS64PNuGUuN2AJYq7y6MS4xCnhVy/KWic6tEXvieDNw/GxqPQ28OQsB2YB0h7xmZxq//726eAGLAAAABGEGaAkmoQWyZTAhX//44QAAGd3/pGjJO8Dkl7+gDwSpU7Uusz42GcmBnAJASI8VIoQKo2sYy7i6/z/v5/nqYEjvPA1qoUfbl0vhLe6EYlTkI8hMArEVMFOcz6ObUyp3n6G0yuggkLcCRYpsgWuuP4t+me/69xwJGIS/6wM2qeyl7d5qNdTK5CsJIz8FuypWaFblq5xjkshokpj+0jHbVgnty05xyg3L+QyNauld3X4NE9KwNBIg4q+pFcDsOFMtY4eM+eRI7sfFlUxgXE0hhQuef2NXY0p8ieOvrMXVMMyg9a1NWnVSAzWUz8QJbK6c+nm65S1NlvM+Q/MQQnGJThesCilEKHjiIbF0zx1erybcgjFunWg6rw8AAAAC6QZ4gRRUsK/8BUeTMYEhnY1C+Hnio+HyIZIT4CTYWyPDgAcXn62brquEF9zj8ABGZyR7UD9fNJ7MyKlkLv06B6Upwhg66uoeqXm8S+OZnnY102iIvDugA6MXNXqfNllj/FrieBXIehZz7n74uqLm2D2oPJ4VG/Adzix8g5MUXDqbzv7bKN/477/eHD5raAktWbbrM4Lm1UePtGnLLIXTnPtPe1FkoWE0+etNORKrmQfRb/GubhvWawA45AAAArgGeX3RCfwGt84qwkm6ZUd9vaOJMUKP5Pr+p7RQnACOjEV5S1YmQbjCb11kdVi39B6NxEuWXi6lWtACZhAl/YEYlk0W4td8G3jFhaCtbfYXsVYZCuceFgTgmji0NVH8ubZUg5xCqWD3x5HriN9aNAQ2gxVCK429vHvP15noHRXQOZ25Um8/adDQIyRAk6LzvxbwSPRtbMEUUUGWQej5HRbQX6MfCT2HV2mIkwr7pLwAAAMMBnkFqQn8BrnjKukJz6ipnt5oPDxQfnePQraZZZAFU/2oooGGhGdVbriG1Ik71jiw/Fj8jWUuqee/+u/eGDwh0ZrP3lpOzGDaCVg8nUK4C/8e0uGiWMBw4Bg69Okd5iB5ncL0rPuOTnI3y1JOOqcreeKZAEuSkJAtLh7JTmsWYpK1AeJ0+nXymTafZll2z1GP7iiB6u/zS+HFinHFAiSzGwOf5oyUVmeqg3U73oCVWAYDIurl0YMpBF6w8OMu0vTcHEjcAAAEiQZpGSahBbJlMCFf//jhAAALZyfZeFbjr7jmDuMXCT5BjrmZ/A/Y3MnDdzzxgGgQK3vZZsJnKLxlsFY1jskUyf6kZneb/nN/p/HHDmwyap+R4SeJDvEcnzZDJfGRrDVLeC7diWSzraSl0X0VDyjjbSslXakGJGwtloR1fsSp1Z39acuISarqkGHrbGnSOgd7EXxuBic6wZooQQe55tw0df4bVWTBrF4FixVHXwtqUBciHlmRfBbtZ5+SUEyhmP0yUwa/oWAf2S0YUFjeZ3tMQlaMC1e+KiJ9z7yRX5OGygTe2wXVUgGvThDdkOUtpt5IXy378sNpMHrEAQ0xrlq0fj++HaqEcxYQ+YryBSat4PymrJ72rYo20LRloVfqcOonrTcAAAADMQZ5kRRUsK/8BUeTMYEhnY1C+Hnio+HyIZIT4B5h2OTNoAGcz60TqOliyGJpUFYNB1VUhSnTVg6BvmCCLcPCVp/BgFDrt7tde1491bTCBcHJvnSgi0giYuY2x/n67MINfgFpvcptK5Rnv/3Vj8haw/FHefOej/K/f1sIslH0xGkm0wyyRrhOkeVNX4icI+t9PFX7318/PYrRhlAVOZ0sZRZSdd7HYxQZ2xyLA0kEpXB1uR+feeNs1UWqeD8ndIXyePPv0JuVHChGTswK3AAAAlgGeg3RCfwGt842kB46iA0FF86T4/iXFOrALXqAH4ol8/esxu5LJT1ZgEomyEtSWi9ZlrL0MzMHRADRjJ7F2azDu3pG6993WRMI/8tkYpwJGNtLjxQfcapFKPAZMtVhwC1ndRio5XzjDWEph/smDAnJflzYrFqNqNgGBnL5V+qsy85c+8T9PW2tpT6Wk9FcVMveR/Fu1NQAAALYBnoVqQn8BrnjKukJz6ipnt5oPDxQfnePN/Qdbp3z+YgAtNMv4yq0MrzqRWk8vSQGwdhs1/cJcT70gDJ4MUCzcYVVzr3xp7p4wPkEISHUMvoes/LfjHtI3NL1mNn95bIWAbRBpf1LWFwL3mWrxRwmbysOIojFlPHeMhWwlmTNlwa6gxVl/4UHNaaviUJX+MBoabGofQUlNyAmHbvygQ1puLWx4RiK6lVhzKN6RViShkKd+c02DewAAARpBmopJqEFsmUwIV//+OEAAAQz2iOXEQMkNdoqbpPh5Y9vCQpxAI8N6BRAt2uVX/ey+P8CA3ZK3gmEBiaUPT99ztDVGoj9/KJUmIrAjLP9TlA609Ah63uouyESRIP2UmKcz1SPhjME75ww3QHc38Sw7oNK7nDHipoMqdxPUOLMFmgMqfMiXJ60lHGDs9eVL52NNRLx78heJoq4pbuT/xRjbRAKukBySViPyVeyiSlS1llp5hFDNL4QpWfsfmRAtNJSSddafw4gpAdWUvQHf0/lRJq5xM7XI2ePstG7UB0w58YLITZVneK3Q+CxKcohBnilC6Bso5ZPemnBGQgUXN1LKRmmBK+fi1chM3jhBoed53NAKYce8Qu03/4MAAAD7QZ6oRRUsK/8BUeTMYEhnY1C+Hnio+HyIZIT4B5apukn85U3hacHgSY1ENkgN1BCO6pDXoDBsSmwEDpq+F7ok/DIJCOOyCPVilrxDQv1l44oX4YHeN79N+QpFgHpjOd+k2IzkUM3KP1eIsKYKf8QK3BG8TekaZI2zM2s8SuaWJxTFqOWF2ui9lKeKiV0OZPR99jGRNL9pcssdkmkqwckTe85S9XrGwmR1QSSVFEfxBb6r+ngJ7+0o/lPD+cTeiMDMYRE9w1wE7zZtnODsv2AwXBuC5BpqfkFlgA57Mohlii+uX9tYAXFwhmBDCj7FsIcUpo27FlCUDJ8MwTcAAAC+AZ7HdEJ/Aa3zirCSbplR329o4kxQo/k+ahMiJ1KDbQZW//acALb6IZmkcY3FAInOLJmgK2khA1VRQz1AdoAGODXq108rb+i9c6zaJIQVzOxi4ihJija85Qb4OIoMJNfSFz912TwWTYOdUS0c++29LHAg1X4zV2SpTtLUn/qjvPYAWnAi/PnQSIOxpYtIwfhGqUjNBnXMSAEY5hzUPMRp8bvpcqLg3KnRFDiwWcU9cWZjwdPUMbbIKl/0MACbgAAAANQBnslqQn8BrnjNkds2UQG4GbEYlJcSmmTXskx2ILhmSpPfaeNpXyf/maoAgBDt/ZNwoqxucve6J/XCg3lf/QpvuPx0ZWsQhHHHWPRXqZS2qEezwvM0YN0bha1OZIxNRbt/N7+0DpnXQ9xhkljSlPTiU4B/UsaKrER7Ic0zYEb5F6PlhZx3mbjT2IHUdTyHYG6PmuqNfYl6oKawcfY7Um9aa2BKMsQ/qcQEGRqHydcGO2DOJD1RkNnUQW5e94tIGn9qZLMEmaIoG8vTiX5DpnFdZB4GLQAAARNBms5JqEFsmUwIV//+OEAAAQ7omy8K3bM0HFE6vzUmARtXmBRAJhqjrGUFMfckznzNWwsbqezcg69IMGp0Yhq/zk93TJR13k8AFVf6+ybe2jCuRaHXf5EnEiTeF8qYnkYjWnOroLw+XCDg1bdDAgVCPlWYBqqsKgvGaf3+CLfC5+2Z3c4DtVH+mt9mL3Y4SVAttPJl38Ag2cuU4qz8a96Vn1//h9Xr9v2BI9ibQvMV3ISeQdMihVWqiguOLKZ6oIJ4fqFYSeB1pKtsaHn1lfvUKkwnapOP2Gi6tW/f/PstZvYgiuxgnBd+PUhnJ/TvxtZ6Br+4GS9s8pwX9VaRYTkQqS89UkMhI2VbAmYYyJIORmOb8wAAAL9BnuxFFSwr/wFR5MxgSGdjUL4eeKj4fIhkhPgHli9hTrZ73CfRnoKRJFJGgCgN/ZPqGjo6QUx4jJs8hFN5Ol9tKvyuDSBoqq7N3O3GinVPFsmA2mpd9q+l+bLdPvv8SoSOZMqYLbUG+Eic3rtJGieDsxPG2mjLXlonJQTsHS4fPLxArWtsiqGfHpJitM9JKHXpGz/159ftQwk0stDVZkYkOpuDD2/n6XIuYIF0GPYHFfFdMZCONsuzbv/N/9AGLAAAAJgBnwt0Qn8BrfONpAeOogNBRfOk+P4lxTqwC15363nm/fURSOUnP9agCERm/oEVX6iXDerQCVyEiF2Zc7nxNq0HmvmNTFxq/LnW8gfvHG2LAf2gUCneqaXgYISSSwebO5ghQcegok+C0dMOb7bmfkCTNEAH8RNXlvv2Wht3RMJTM5pRuzer3zh/9QzUNm/bUtVCDHLwnCAMCQAAALcBnw1qQn8BrnjKukJz6ipnt5oPDxQfnePNvTLZJY8XL1SudiWc2r3JKUAMn/o5DuhACan6RHYq68rP6HqIoUJ23Rc7uVpFBWRdKEb7o/Jv9cEeGX/5wPepBF2GZ86MrIdksAK8mlr1pArlUz0Nh0/Dc/YwMcP2f0YrwuoD8qpxeOOUtYDyi++mncOlgypO5Nytl83aHnaZAOY2h748cP4PPv7n5mmEg9WV28vmjI6XiZ+OkqFAccEAAAEVQZsSSahBbJlMCFf//jhAAABm0AHNu8AhPWEWACy3l+Mb2wW+Qa7Df359QCLLaYV6Z8Fts6en1jEuMKoMqsJGszFzYbLujyaabxiJ9iwvKV/jDq8ub9BVZErMZxwad5h6t4GUR620b0OGNbMKECwR9fUTJ+JPypeVIgTLESE+ZzJuyqPcuwsO3n2lJtsZmxf3+srORJ75Dbbb1PUG2OlTpocLYGO1Trf1cGpcDUyleq5vEiv58NCieOFKuxO9wWKPoyxyRe4e01+6IvAdGY37uXtzWHU87XkRBBp1UfELlWuiXhcapKQ4/VCIXC1WxOXE97uxE/mbPCx9uCR24KLKu8z5NTlXO+icRusZLBkIqjYpu3FPyQAAALlBnzBFFSwr/wFR5MxgSGdjUL4eeKj4fIhkhPgHli9gz9Qz/xaYrCt9wfpbs2vDbSeOQALfdbltdKZlb4U5qYz3DmYqF/iWtKH0YSZH0/1EKpH2TSRsrAv8yhv57zsl+BK4f1x5GdXdHw1XNo2qPSyI5OBwEMZiNe06QkWv8fJ1c1cr9HWgA0zJwiP/sh7eEtJ4eaPh541BZhPda47CqzE8bdIM/05GhnkSE7M+lTetW0Fi3oz0QgA+YAAAAKQBn090Qn8BrfOKsJJumVHfb2jiTFCj+T5u1XAgXHcxMAJasQ1azLzxz/HyJ99ku2mAt/iebAptNtLt80IifbleQLUXt+JraQsdiK+tRyYN3Y/qtodXRUN7DYYuoUxUqhCvFxILP+bRODblByHz1i0NHD1Hr94KWos2OE0WmKuKy+OC2nxHC5BixipxVCdhc8/+vvgVmwE3QxJ5BGIB1xY66Q8W9AAAAJcBn1FqQn8BrnjKukJz6ipnt5oPDxQfnePNuBxntAEXc2sAEnvzdro/MdEe+nEGr8oq9868ruc/b703/+HC2ioE42cQ5ZkwUYjfzZ18uY7mn94wpzxCYlHBjh7SnHmTYVuEd0+TcnA4pFgcPY/YbjpDMVhXJrVLtvdnug4D0bXWAtroAu4gLQlpyZ+L5Xb7da6sI+oHmBSRAAABKUGbVkmoQWyZTAhX//44QAAAZtABv5915fgthMCVaNZXwFhGsDRSOmyH+Dq90rmsH9ojqILfUTUeKD5lR7e+R+P2cCJpqPXXmnNcqGjj1GFtzl4WuvetXFfdBXY4PrQrsYsV66jrYii2IViU25YjR8wbtwvGqdvtdFBPo4SY1HjMFjjKbLfSxivoASwhhiUk2Ww1zKoQF3I+0cLrq3O5hQiH83QKEs1L26t3LOjC2My7z/GjZlp3ypBngkmzwj+66i7dAaKY0DTz+IsZs58U+uZ5Ulog1CsbJ+IJJZW3OelvVkUPfAuoDwmBQ1+nGj745Q220pvlaZ4ATtNybkG6afqRGUmLFTovWFKJsv8rexKBAeQ3hJ4RP7tN3xHeP2eOfzoscklxjxOygAAAAJhBn3RFFSwr/wFR5M0FZtFhfHu17ERx5yLid4eQJcexNMvEsTsaWh+Kx07lHj5P7MAF0DQFvlg571eM1ss90kCccszaeZgAL1A8+XhbNue8gM2JzW+WGSrYfXeqdyO19+YiHzi9eNqRyUhfXl6d1rDcFVSMHKLiPEgTqlvN/PYFgN64g8nf5UFUuDD3lhgnjmsAKztRbACPgAAAAKQBn5N0Qn8BrfOOguXENX28/M4Lev+qVScfqlllLPQX/ABa68FR6Pibo9gKppel9L4I+HN8TbEiIPgdpZKp6gc6srmVBjkTdAZvsl16lSt3xd/q7QvIMWvtk8buXJB553rxkzDZ35/xOOI+1kL3A5wxiCeme3Sl6HpJdWRla+F6wL1F/uWo4deSDIe9XYpH7DQ8EISVH51+d/hAGYpFrowof0hDwQAAALcBn5VqQn8BrnjOqaX6CenLo55cnr/JYu3Libx+hp1ZaDtR2Dn5Dz/opQAvYloF743NLKhVT4yLPzm5c6ptvAAJfwI4m4hzNyk3Yv/7EMy80QdIEpKFco7WpjxC79HcdevPuLXCcstUtH7SH7KsGuvY5YEcGljnCOL9wDI3HUdVI94TEb3UK1m7kuD9vFigOs3HuYVDZ6+puwrEaMLo7P1eZRCQwFknAXM8AWwd6Ze9I+6aBdWiMKAAAAEgQZuaSahBbJlMCFf//jhAAABnd/6Rox9WkhfUt1btMLgUQAFdVJ1jdpy3RoIv5FvfjKDWUNAFDgCsFYiHiuJ66vt9uJdwEWxdoHOXdjADHTWMZoHheyA0MAhsnsYBa82c3W9ZLyiXAsyLEYbuB1ViKv0pYaQNUO/au9GtbDz+2VcaxYJcgMtWmp22nJa82B9aYfO/yx599SilexrgCpVSzZe9PhnqX4ijiApdwyvMoLRvx276jMaMsi3zaI2g/33r2EzaOngi/Nkc4HberWg4u9qTcWs3POi5RVsutI//C8y9JuNyXqWJ9bNh9f/EvbJ0FdIvdMTO8dpN202TrksIFpTui9WwnrgJSFpJ/12rPnCdFyOp+HK/fdsQ2oLD3nPhAAAAuEGfuEUVLCv/AVHkzUEraQl2Ilik+1uDX7NXlriTWndoAOgvb7r4zsP6LmyAdc3lx0AFp3M51FF1017MT2jBYVwfunJBAHMjcEyY/LWbdWCHcfF6bpVQVdZilYhvEXkvm8G1rW67L6lgANp6NFNDmUDdALDMz24rvsQkFtbXDOR1HSWSsOAk5KESwvsAkdI5zPp0PIHqdBu28jr5PI8ZWUmfIW4XFFJw3jArqtCtnsz5882Y896AZ8EAAAC3AZ/XdEJ/Aa3zjoLlxDV9vPzOC3r/qlUnH6pZZSv5rH7eE/QAlcQkET3dH0zsbVIzWBgEduS5fc6C5G+Qr/aqi8Wx9ErVt8ALSBnNo3YnapKoI87UA2OM416BDHhulRx3ZWq9t+3AQdA+byY1FXmk2Au1lqN/ty8ScOJ3AiSLu6AP4vAVguteXmnAeFFda/5sMSQUYHTD1XKzYH9AeeDnTQfLT5N5ysW7P9GBzuIzZU6NfPcQAGLAAAAAsQGf2WpCfwGueM6ppfoJ6cujnlyev8li7cuJvH6EOagOZ8C39uls2FAf+3hAAgk9RELXYwOwIo0qEu5r8uY0wK3Eru6MN/RnCPrKOseQyqt29X3OmIzSKq4ZSQDVkUqew19gdnv45Au6mq4IIwB3ztKTjKV8MiA33XVW8pQeThiq1oBxXBXYHE7y3klRAMcpB4Gl7ZhPvKySy14EIvRAbZ7nYWJkfLBhcthnJMdt1SQu4QAAASlBm95JqEFsmUwIV//+OEAAACap2iLPc2AHNiDV3Be53WA052/WwrBU7mwk7S0+O6nPUOG1ySJzwc1RqfP4BpEYKNdBzHHuhCahkb2s4EePte2SuYMzMrnw7IQdUgfvydgWn9oIFXHXAaPKYhZYIOdPXnyzxoVWdjtkzASta1Aoy12XrktBCCwDQfZoRjVqb7V5k4WwD+GSkAtqPYxxXUdYC+67eOsdj6z0WKIYkRbAzbCPNR8rcvSaC2dbvf8Kc+9xtHdH8qh1BhhENJPyIMIj6gSNsDJ0/o2KRYzpb+Sla38MJKoj0xz/Jrcl1Y3L+Tr43YE8Sn2oB/9Xv9vhpaSxEQenIr4DJsVj/xS/bDsl1hBL7uoDBiY5jBCj8gZNGkz/b3dhfScWTcAAAADgQZ/8RRUsK/8BUeTNQStpCXYiWKT7W4Nfs1eWuJNad2gA6AYNK3KS5IoFTo5TACOunOXrX0nj2MP//4oAUdSdIWRyQEuzk5g3hx69FaBzK667yrwPT2Xg/AOvDbsRPdLX7YjxcJdNN0xVWm6CT7HO6OxUhXwnNgSTraGQS8Ukpld8zumqFQfTuWT0MiuvoDBCQuqohRH+es8fYsFUOngZLM0Vxk8Eex374OGTfybwrSpctMhrKG+A3tCz5MolUVXI1h8xldPw3QEtjvapWF0S3MOk/0kfL1C9YpNgsDGyEPEAAACxAZ4bdEJ/Aa3zjoLlxDV9vPzOC3r/qlUnH6pZZSGnfY10IAPZOGkOJDYUj7JcoQuO0ofhL1OywpugT545ZfS4CCFYPZPcse4mpKj7Mzg6ZFyDDQ+LEpntgoiC3NSh2FSZl3iRt6o4AaVOpQ3rL5OVysAHNtXCJ1UbHLeB1dYjhqSkYRdkrCVex3FfOBFYuHfylbOr7Vtl1Pt84xGgCE7ro9Ktkj67l6JqPAT9rOWUAHdBAAAArQGeHWpCfwGueM6ppfoJ6cujnlyev8li7cuJvH6EOPnRZJ37LqGmvwK88rWSIsJaQHJQxWWTzcgMy4J9S3Oi8m88KugATaPahOBBtvXzjybbbaVhr6ykdwL3Zp2ybjyF6wpGyZ8oFGa/TmJpUNo2pWLxejHoAHu0jbC8SR8Yjb/vctT7tBOh3p9vgWnpUfJz6Bwt9qc+v+/URSakAzN0r349KFzOok9y5f/78QYsAAABHUGaAkmoQWyZTAhf//6MsAAACgcdBdnLqh3LTW0bXq7PGAEljLXt2QJkU774W8DJ8LRwpZ0X1L2RcrJZF0RdkOQIXaEviyrz6IA7p3dJtWkVqd3NvK6GgMXOdJtCk7loaYSv1BY0x3TxVOAfmmmMt0fomWuiDntYke5NX/DOBQzWLQFrdLCRYwFfcXKJIZRzvvDmXxLI+dcJ97fKSi4qbKw8Pag+yVUq+Lb81IZN+HAABXP1glRG2XvzDDDJoCEOwkkOeXFXX3bBX8V9On8Zo4T+yxmEQQCiy2qbTtxd7zQ1tqesrXoLVdH3L/opGvVkCyvNrvltuuQAID1tUal4h7ZJlhVapV9VUWcu5HuKUg4ddvSapXp5gdPKDc3iMAAAANdBniBFFSwr/wFR5M1BK2kJdiJYpPtbg1+zV5a4k1p3aADoBf9+I/SPlfoQpEbUTyDq0PhFGsyxnV2evoBP0sZicHGxM03OthEJTaXX/JNxo0AONgnUBirs/z1L6In///gFSW7LYB4G8/wd5vMJ7wvy/gHXQr2I861GRmY7D9PjWaa+/KH6fQwvqe7akiEoYndBiSimdoNsn4lVxS9VbqJrt/dlqv8Oi98eYBVGsbsDoJ1q7k0C36qTINwuOXylnKjL4IhGHZ0FM+Lu9RTL3UpGQiwtzCh+QQAAALsBnl90Qn8BrfOOguXENX28/M4Lev+qVScfqlllIal7oTtHdElBXHublGsm6gA56LuCN8Ew26iM7h9jDusdkzu8bIa5MdlOKbPKhcYs6m07f2W5Bd6fN35Ji5VZ3KKq1Gg+WFylArm7LrzL/jL26tTGfdxXl0denVbRWkJKz5Mx0lfjDbWQJ3j72LO0kfW7Er6VOeLY8oyG1N95IAiNFbb8NjOi8miP00wOKmhZdsBCmaEzNVCQt6X4cPCAAAAAswGeQWpCfwGueM6ppfoJ6cujnlyev8li7cuJvH6EORq+jf0qSq59CrWeuN8XnoALbwBtEdP7qk5qZ6ZysTuyOBZ2rcT4hIQ9KeUHDRU4fHQ8Ei+4oi2uJSMlpHFE4tfT/11CX0LOXqnlTp2JOCRMiAYwKp+YCfuR2+HaWWt6b/rufdOMv0cmYNex63JkKrKhmvUoUoDb8ua9cVwDn+DAIsvXzIdWlXE+SpaEDVSQpX6QNuEDAAABHUGaRkmoQWyZTAhv//6nhAAAAwKRzLtHN7b1Vef2DNwJKNlSr/r71PHB9hb35JJm57Dt9mb7aKeiMyK8ahV8IrVMWcxPSnU/qZ2crLcYQhVcYOgLb4m03y72M7/4s5iJjbVW4KKnT90aJczmlHoIOb/ruydZGAFCpBYytMuU0Si9V4+Br2Rdf1d2axQtz/krJBz24w3ZDiKZvTuRXSOllT5iWOyU24Anp4Lg1jYkOmKxnf/Qan8Y7GNvA7E0isXYTOIW2X2vNU4PibAGnu07xOFDdULG9vHegZfribK7aeGpX17QD+ZlgQ6afrzxaBkTmNLOKKFjXkFtUQE/1RBu40k1kg2920dCGkbH5+vW+gg5Q3wyGQLtv3+ttHQxOwAAANVBnmRFFSwr/wFR5M1BK2kJdiJYpPtbg1+zV5a4k1p3aADoBfv9l5P7kDs2e18sDZnhsIaIrHB+w2xQAON5wLWzxw/yJTjf/yDo5Xs9fQminCeWyjmpWmuPNAiRrVlyZz1hB6qp9FWXpImYXmPMQaLRRX8NkER+iRbr3PHgR/eFc0y5l6kN2TDdf4WJDtdIngYau2gD3NLVJ7SdaiG9ASAi7egi632CHxsr48fO/T574ZneUcrf/3H85s70SiKcOHXPu7Kiy87cRv18nl9//hATlfEAMCEAAAC9AZ6DdEJ/Aa3zjoLlxDV9vPzOC3r/qlUnH6pZZSGkI5CRvU4X6AHfWQAXN8UtgV8H5ex1QIsIXUIJHd76oEtjtNS2m5pijiHIHdRTumVnr1TumUwzk4Z4yYefrsUN2/Q/qX5M7ZC8DVzcGDVnCgTqfRDK6UnFeBPuJya4/FrYShmmvXrV/qrw8Tfhq/TH5Sz6CJuOpB7cCMWjpNelvjdeuWUPQJw39qFpRlDcWDV/BrZ9DhKSYMC03Ty3rYZVAAAArQGehWpCfwGueM6ppfoJ6cujnlyev8li7cuJvH6EFlsR/2H3U381vLQ90x/ABwY+TrY0ZsaToi6Iehf069ORpqmXMFn7MC/tKCxhf8E9YVJrxnbU67jPLxu9H8bwY0TTMWMoz9AxZBR2GD86f4DVQzVJJz5RfYqobWiKNGHqsZQOrpp0SVMMfpG3/lXc4SawZT3N9ur7bAwylq0Baazw67X7XNjk2RcCNuoM+EGBAAAA3kGaikmoQWyZTAhv//6nhAAAAwD4LsZW5plwDKL00uoARYNCpCgc8oUA2rD2aySX9iGp4Rkzw1ADwUCLvI4G30eHQAbvHOPiZ2NYqKAiDPcr2rfvVBWrZjS18Y9N5LaKAcFnTiaeAG/t7c3twfEeHSK/2YYAtPeSqeM5bpZ9gScgiZCIn66dfh3y86774jd6UBJq7/+T3Vr4t8DbOxCKdf0lY8I2YY2dSYan2qDGtEPx2lc4aSyrPFqGSXGrXfMrqu8CnSljdWAAZWuD9Pt+NHwkhFf9TFR6b2gL5a7hqQAAAKtBnqhFFSwr/wFR5M1BK2kJdiJYpPtbg1+zV5a4k1p3aADoBRhfhAMAJGEXlXMUlYNAA2/ODMXWlXo2OM02L8VqDJvl2g4Q/4VQaAx8UmrGQNg9r0ahzymaasLSGWcWlg+cUIl1z6T6S5U41x8YCm8Am/gXrmhrdGtLgZndHdhNi4tVs8LmkL589vBMkt2H8rcD6ICe6Fn0FZ8bQROjSn4Eb9oHZO1wdf7QQcAAAAC9AZ7HdEJ/Aa3zjoLlxDV9vPzOC3r/qlUnH6pZZSCkceN2JkfygAE4jLb5YhALyukZ7vmDSWSX66J0+NNEAzAVvnNx1TG/0bUu7pk4waOeSGzGmg9PgrTJf0ZVSpF55vuD0OK67mskrEtmNpJSqVMEppmVns+ah/0Aa/I5OApFOiqxTHygwZcoZAVtHGF5dfe0ZamgvdWvXuihmbnWqpk6LgWP+GTUswm5HgrPgWB0D7u/9J2LC5c3dMrt9DZgAAAAqwGeyWpCfwGueM6ppfoJ6cujnlyev8li7cuJvH6EFnF60OCAEyjrn7ZxUcceiKYxZuho6vrDqRh5uz0UthIk9amzVxlHf49fX2u0ztWMtyzf7D8zP9ejnKra1fW+76n/f/2Jpi+sQdqKv+HxKf/wmKx2kiUJISarIbGEEmJVFFEPdg36IPBpu5d8cFMXGXtNVZSKW1EzuHoa7AmvA+LhanP2853SSiIVLi3DjwAAARlBms5JqEFsmUwIb//+p4QAAAMA9/uXICbnNKwp9wifV0Rjhv0i5Y+m9aYjaWzVVu8jrJPEzYTKeSDTieKrzxGq7pWUIZc+jaOlyGkFmDsOi4+S3GNCaJARzp1AAB5GsTAc3jDQpLkeUQ36dl9+6Bb1CB/BqMj9OpgYT0ZW3nx5Yq17qq4McoSM3nrty7k68nPAYnCoZblYiYHDUsLTrrEwYwpiJEzgPD3QvEA/g8GCLMLxrcEsN8QDPRMJPnEBU0Eu5gmsFOo4hqwmBZhtNygkB0HEexR8Vo2DD1TGehbotCS2Z9twjqPa2t7UYYzuSFbyd6dsXuYmtP57xEzkWRpA4wDhYL7cGcOzcvx5zNR9+oSKiUYh3cPQjAAAAK5BnuxFFSwr/wFR5M1BK2kJdiJYpPtbg1+zV5a4k1p3aADoBRhfdluhADjc3CeXFVfTp/2ajzgp2b/bR7iKwGsB/TXD8L81SNaOI5BohWejP9zPpzVL7huSA0yA88z+MAO/QOP4xDpsu8GeIVV6BKyLffocySwU/vn+3lReew3fOjt4aFn+TxJY9DfmtzWWGSfm0/oFY6k+Lw14PSDFpt/zobJqeABi0iBK1731gfMAAACSAZ8LdEJ/Aa3zjoLlxDV9vPzOC3r/qlUnH6pZZSCkjbALohBcNBUy167Rl0Ih6JxdToQtvLJupGXcIAOBCpaBrTZe8YOX35H6CRG1nz3wEW2nhKysc/j76oZd0cCmtO+blPT/1baz02dcu3K6w9eM1iFjOPvqxF3077LQuV2Jvf+A/FYOwCf3VZVGdOLhNBttCLkAAAB8AZ8NakJ/Aa54zqml+gnpy6OeXJ6/yWLty4m8foQWeSUM84zOtg2c0r20GdTpQAGwu6XeUm/OsupxkjrKEp8KO6b0WgQpma1odEXbEf337JuYRuAHDWnlgnoclKOGMpMLqm3a4Bk0RARG6jSUZ+84W7xwIV284hqKEgxUwQAAAUNBmxJJqEFsmUwIb//+p4QAAAMA+C6n7UxZIzZ4jYgDE2mNLgc2RAZVu0zd3esSyqZ8QCP16e+bqOFpocw2gg2qhKgnTHecnDhJWj6QgHPogE7VfrwNrfVIRu/vQDXkswzfXSGy07oR+CDVPtcFRChQqiMKQLlz/BwoE7Yx+4Pk15RbBh4FRl5oNwgmM9hLWaQso475CMKaHMQCB6a1nHDUDsyEPYr1NcG8FSzqPfF/LBrhdzDU1HbXHRlI1LtWdkS4AXi4Rq6CbjD/nILBuohmmM/bEbIC1P091igRiITXDYZvqSc59X1IJRtazgaYHCjE/cGlX6xM8qtoGh+RTWArESXC68hZ+jPxwjFa140Bd8mBRUctO0sru/JrFqEme+qZMZWGHogvDkOkV9iJXEWz6YDUUzNi8d5udAhPUFACH2BZQQAAALVBnzBFFSwr/wFR5M1BK2kJdiJYpPtbg1+zV5a4k1p3aADoBRhfMNroudMKFiwOyOAYZ24WQbqhJ9ORPU7KkqO3BOPyRrTEJkef3Qh7O8MBWdh1VAk1WJtcvi2REBFPmweCFCWxhtvVU87u931wySM9lYLh+g1hDABLBOc7zwN0jmTNS+71pwophdBNDQz8C1d21ixUVaES4Me7T4xiYYwfN0N97FutsLTVIYdILZ7VRuKRkCkgAAAAnAGfT3RCfwGt846C5cQ1fbz8zgt6/6pVJx+qWWUgo6rHHBIgXHdTr4HAObnLQQAGijCTYkOA/sogTQ8W/xY1f/3uGKcZwcT8IX43wEzg/tFg8A9vyZu91iMJdrF8U8EgElv56qci9D/meiAQiKkz/qC7kf2PjqPbhn3+mnQ6xckzMMpvaJzwf+fAia3fWSfOqMNeuvVaDeahHhgDAgAAAJIBn1FqQn8BrnjOqaX6CenLo55cnr/JYu3Libx+hBZ/gjn6Rbh/yYkJejfriqXM8ARL9DpLsAp+UiN599bq1ej1VmrBAxRm0caHFLSk35sGbTNMvadk10H4CmZht5anY8thIGbisiN+8/3htEqNhYTufeseRSC842sQHBXIp0kNHQCGsyTbMF3hisnSYx2OZ2BQQQAAAPdBm1ZJqEFsmUwIb//+p4QAAAMA+XCeZLEBsWdSWgaAsAOPUcK/VkHWOoQK6xet65/D37n7WMDVkFwE1bda6+39OuJdrn5uqXvREIZ0yiGR1hPcwpkEQVMn2oKMhRO052bGTFsJ8HfO0bW7NyJIN29NGsVlcGV7Jcf5yCT5Y7gMdiv2Mcovv6ch+JMusqiH4cf3v7jqv9jWOQ91jUI7oYVSQ5Wn1a3A913P8io5RdA0FqtLT37iwsugdC1nTvqH/SjtUhJD7JA1Y/LPYBFrRUpam8YH/hMcbrYMZgpZF6JPTFrZ1LOh7akrKHgDzR8SpNAf7UmT3o1IAAAAqEGfdEUVLCv/AVHkzUEraQl2Ilik+1uDX7NXlriTWndoAOgFGGAhj2Qvyzz0Xe1BTy3mMbvWgAmvF5PguXdJRGO98moJhq/8vvJLuYGLQ14HBSMuKBuz80WlBkYUiE7uS3ZGXy1DK7YRKbaIfV5wrTkHXpIdhGDc6aw8KoJVbOmzaw/Y3EW1N4cCtPcY7djJ7nPiUUgnlgwN17plvQ1vCTWEWtzKQ+AuIAAAAJkBn5N0Qn8BrfOOguXENX28/M4Lev+qVScfqlllIKNChcHKtwRU02hP8AEg3bdfUeCH4E/wQoLCfQHNlhbl1DtirIrbkgeT4bqRndsmKV8XZibDwzsdQqy9ra2TuMo3sdD/2GRU64MRpQ5484E+vKXbJWCUOF8ZMzghpS3rlcs1//2HYyWl4FyAbhtmIig0cNqtvG/YvQKA9IEAAACSAZ+VakJ/Aa54zqml+gnpy6OeXJ6/yWLty4m8foQWUbws87DK8AJTUqlWHIa5/WHvegBWI4mJYmE3shQJHbqA38UtFna5hezeJ0Mm1GTObI1uPxoXbK888DKgdI4hP4nkBoPaYhBZ1w9fCHABlMqbJY8gOSBm7qo4SlNUx9lMNfCrp24Qc9+fEuEijNuUxskQHHAAAAE3QZuaSahBbJlMCG///qeEAAADAF/cM3fc+/24owAAhr/nDmlvIzF13lhnIdKK1pjlCZSA+MLlmJcR1fU9ONtv8RFH03vVU17OzOwU/bxhs7eMrJBvmxUrK/Me1VmJnGHW6oIXcM8aTBAj+y14TSHWEDQOPAH4wfbUOI0wJeSGUnXJ7ajqEKpSPfhQm80TFwLm+7+jlnPNiWv52xxZSV++lmCwHHGPKzPWIza7qtnxGwGH5qiPGZhBUUFEc3/Ux7f75s6vlrjWAqTIvG+fU2TISzV2sDm5QBrb0F9rC4/2Vt5h+iU31USszJZpIbwPFo56xOPl6s5vzyisG+oXgbumIDMa00aehdCp3g3mIM57eCEKikDxofRRquu9zVWF4eatqtguSF8xjH5h1huYmKvP8cDASrhdpy0AAAC5QZ+4RRUsK/8BUeTNQStpCXYiWKT7W4Nfs1eWuJNad2gA6AUYXoTghA41NzRACzaIJcyGJxf9232HYTDF2mHkH6tvwPcngC8XT61a4Wf449i98axM2N9XR6Puw3N+E6mrWOjpi+42RyH7lt2IjBK/tKt6ffRu2JvOZqitFtxjs1MsceL5TaWWdOnM3THTuVzUfIn5R089VIUwwMOSr17rRZEywOtdlAzM2Kt03SbgUSrq4chO5KvAFbEAAADEAZ/XdEJ/Aa3zjoLlxDV9vPzOC3r/qlUnH6pZZSCjDv7RhM4j3B3iE2ziDzfKuAD9HVyGAjJAyJs65voWAKxramXOyyV8CFh0YRN7HjvLkLpPTvUr/D+hT8mtBfnSfbLmdpGVC1Tb4PEm6VTClCiYJlSt708ov5I2rtnDL04NwbBM+TyHaKS4tuIHWdS8wd5XbLJeGZou/n04OFoKxC3kozg8obdKnAB+kuHs9S27DCwt/5JevpFQtPhS24Udm7365iw2YAAAALIBn9lqQn8BrnjOqaX6CenLo55cnr/JYu3Libx+hBZRvCz2G1Z3Ai33CeXFSI/VwA4xNvS64aymo3+qWFKgapO8KAsIWHUJdOSuiBYZwAvR0OAmkF76TEL/+qUJQGEpcp8L2ocFNp9U71ifk9IADgf/uQFuiUSpbdCbJMuKRraG8c5JEdXla+JKFN5l7zsyC4gl1rjkfM4L1c5pEQ3IwGKcSq2XQVcPzib1PxaXdXneEjFbAAABB0Gb3kmoQWyZTAhv//6nhAAAAwBfXlqH9kAVU9eFPfBAR0Ij6ktGPbtM8cT3rVDEVke0utG8UmYTazUD09SNIOTOl0ZJUDRSKxLd3hZbiN4VDa3V5HyQE7AXl1+MzI5zcbD7VNsWQR5x0AKCuqnOw+lOGk1eDi1Xj1H31ZhX/YZ3BaqiPEc6idHYWDTYiCMgoV0gObNjAQPxs4nl2ZsRET3aaehgJtZmWmyh6jLc1rbhfvkmO1zQ81DsymyU4jV9tgdWfoINyQVOmARddPsVzmgIjdEK6uPEpbTEUP5Kl4/vU7wnWmbj9Bdf53SlZ8TL88PzTa9QqLy6ULi8u/vXL43wgKmbS5BAAAAAnEGf/EUVLCv/AVHkzUEraQl2Ilik+1uDX7NXlriTWndoAOgFGF6E4bjaQpIV9sa2t8R6acvtbfT6IoZuTGsgAIfkjD1Kyu7RU/gDtgTRpsR4yCyr85akgvpASyh4Mpg7pPuybEvf5wRl+qz/2UpdGyLNT/LUI3/vwl2fe/y1WgMEprjAvfm6h2+T2QmhqIleBZzQbIayYwaOFcArYQAAAIEBnht0Qn8BrfOOguXENX28/M4Lev+qVScfqlllIKMO/qrCfx+jTh0Mr69btyCz/UQAag5O4YOuD6Hwk6W45lbt/3siNkxmQXNCEgCYVfJsawrfdkg2+Oij7psu0b4K6ZSPJSvLU2cXankwPjJ4vRCzg+JXhSx1KQw3OeW9XwKULBkAAACbAZ4dakJ/Aa54zqml+gnpy6OeXJ6/yWLty4m8foQWUbxjqbNkP93DBVvgVv2nEELv6IABKX3ZYYOViF3NwJFjqqGPBWbYsLpHzSNAtzELxKnnyjKZT/uTivgwKBicLA130RyBjQjILuaBsehm61K01YPaCvkjiaCN8+GH7dgf+eATQ29WrGljJ92Ar4JkwFZypN7kquqpewLAA/wAAAEZQZoCSahBbJlMCG///qeEAAADAF9sWrV9kAVibAuiR0sWL7GY5WnUGc5bXVPrqHMtdz9U95jMyO5SJ0vOO8N0PY4jxbXL75NU0LsQk8nI0m30z9/vBZeDn+OcFvxQbMjf0ol9+Fv6fCnbXqZzEr8r+F/FUxWGkW7ixnOdUWKV3z+DttAoaWbw4E922x4n+DO09rNjI7d0f+CNlpRlyn3KR3YVINtiB5quDsgFgOMxdPQUgrHkd/5d+EzIFlMaZ/L+yRUmasbI3JW7AwQ8qBuIps+eDvTogJNJF6ng/uajwQ7GaLPuio/eMb6B8BDMWWW+v2AT6VWvokYf465z1d7uptuhPLasX7YPESE7p3BF9cOb/b3UKr3vb0gAAADJQZ4gRRUsK/8BUeTNQStpCXYiWKT7W4Nfs1eWuJNad2gA6AUYXoTghIVk0f32BQCO0aaRbJkuk8MACbGBQbMCX+V23aGU1M6xpNxPR+n9EgjYxik7gscz8Usnx3llP0kyy4zfLaXi5PLMTItrwxnH1pRTBR5J2jt7/WrTOOW1iSWONtUQl/M3/hiS/bA8hSe2n9d+dd8rXV5fhjnpLDrIv8vuCOGu0RSvbB9rQJlJC4YP2ojF1IFrk3ZEgi3iWCSrTYTg8tkgAOOBAAAAlAGeX3RCfwGt846C5cQ1fbz8zgt6/6pVJx+qWWUgow8A6HnKl5DwP9jeUIEX2cr7dt/DzAAsCyy1FXEmO5QCmGyek1agrvMNOv6426ICNutOLTgpuvFQCO7ls7UAVfC9FKmlbEmi5emWUcq7IbH6G4wt6Iorslr7E6uztQRK+JTkhQMIrVO70XNBpHUoHxjR+nzAAxYAAACQAZ5BakJ/Aa54zqml+gnpy6OeXJ6/yWLty4m8foQWUbxhO809LBhKAf/bJJI4nHAGvwAh+PCwIjI44CuGQtNwWonCeIQtApsQEm+xnrll/Rc0HO9CeK25TU6L80PupEDn6LfQKRqHlbVYHqyWiuXrbLzYrTZjNCIRNhuIEXOoZwf/mRshyXUVD9+JjCvQ+CyhAAAA/UGaRkmoQWyZTAhv//6nhAAAAwBfW+8CK4WAD+Rd+9sGeSiPxrboTCFHvk415GC4Dp/Lm3zfXjrpcN7jo4Y9Lp+niZGs0PbzT0wESKp24VD9oKilbCxWBkL74lsU/+lsaGuOIOOEOqzv8tzXN+nsxPcqXc1tuJlgi9G1Bpmxe/N4PGsOFRjLYtR1cCun158q9uaJHveqHFT3MiUzrNdj+UezxjgyJxYxxfZmKWTF+fNLTE9Rv0AetsgvztGrfJEARo0XjUDxj86ymDA7vhglVV1zw9iwry6Gx7DeHxNVHlDZmCowEF+THtxhQO4wwRB2Pnn66b6Udcw8D0jtwqoAAACVQZ5kRRUsK/8BUeTNQStpCXYiWKT7W4Nfs1eWuJNad2gA6AUYXoThBhyopqOq7YAAp59YLkJNezp4ZrRT21s6uauKqCfrD1C3h0CEwMR33cmUApjOlE2PYB4avW9Kk+W7y8we0ZyJiTIhGZQJE6En6pQFG0UZtXAamxJvgBY6ti6/mgLfdIC5m1W2gIGXkcfmDpfARcEAAACWAZ6DdEJ/Aa3zjoLlxDV9vPzOC3r/qlUnH6pZZSCjDvvR3Saqu15XF+ZEFO5zi2K74yoKy/efc6/BrdVT55DqK2fqlFWeoqgw0o9HBqqoZsY1o1XiSAa9V4iepPpUtGoq9rX8c693DBGbRETxuacL6cLnTyJZQkQHIgdPHPgRBoHk+HmnUYhSKRK0ONr2LihSoBs8gA/xAAAAdQGehWpCfwGueM6ppfoJ6cujnlyev8li7cuJvH6EFlG8N7FqNEbhNSKe0daN5KSo19dsSKYxWPsOBffvjLuamAK1ObUIA6jGDzLRoHsZqhpcZgrEqKuaW7lqvSQiMNwsw9rb1hrC8JxKElrldgznQl+zSQAHzQAAAVFBmopJqEFsmUwIb//+p4QAAAMAX/hPM1gXdw+EoxhIAZ4/G4bgke/qlbKBGuTMGyZPve0dafWso1gbktDjpBSLhQ3sGf5uMOFNpTXBh/NX3zOn6jITJjblzop6EwtGfuIR3Px/1DVCcQEDWD1jDNAMtTO9Jb+5R7UdU5hyWpWpm1baAW1Z6jpe8Fr1g04TATw60vJKTVTdCW3/S2ej6QB6NwiuCZc1niXUer8P9VYHn/FOfRXd2LZIGblhl1oLSEsDMONN0fSoG1D8ZoUUco3iEDc/ob5YGTkUPkxDzkdfPJEkVXpZwBAPykKrgy4VcWF0hG23EQfmWf2m2OA3YNdtcy8WEH8MWTiWNJLCydhvQ0d0WFuu9htbcrSsOPSbMJuykQ8fGiz9OiuyLv7FgdlVDzebe9syq1mulePoyUYnr50vjZkuQlDZ639xIdXjeNmBAAAAl0GeqEUVLCv/AVHkzUEraQl2Ilik+1uDX7NXlriTWndoAOgFGF6E4ZRzLETGNzi0puAEp0la0+Ku9iJpLc/IY5ip5oBWVuioTatpbw8RQyKrsdKFbX8XQ7yM74JRWY/gt/gEXZkgc2ouKDHePlU3yARZT1xPmqX6xxAG/fN1MXaIcr0bllqn/+O9gBN9Jv1pjij1fz3cCFgAAACCAZ7HdEJ/Aa3zjoLlxDV9vPzOC3r/qlUnH6pZZSCjDwDf3hv0A9A88tum3bmAcxwkDL+QR3SufqTeqt3RmPNYhezVKKlSKAeQjis/UjNrdc9fgyOKrZDCpbZ3siGlHrG8nKVMI+ztzqbQ7EsbSHr55heP9p3edElAjpCQ+XH3SIAl4AAAAIUBnslqQn8BrnjOqaX6CenLo55cnr/JYu3Libx+hBZRvLAhtGTwG03qqACb+ueWPqhdGTWlbGvCgOle1gjp0UABuCWnPwurz9TsNRcbzt0AUrPYPY381cCjAs5CWJhxqDvFv9RG3yozDlHDtrVQaUjgAsx+Jsr8YqaogLjVVe39QidRUlbBAAABR0GazkmoQWyZTAhv//6nhAAAAwBr48OgAjK5CrIWOr3rkP7QjbRdsoM6SFPDS1JBK4mzOxEwygodewjGdMq8O8uX9PRDSMlRrpUd6QRM+4fCUs5j6SngGheNyv0frzYXYs7SPWzkG4uZwUP5S2kzpcUy+dulEC//Y5uGyJ567QhDH/MWUmqhHQt7jSQRZPYHHqrScIzG09YADjy+hU9FlW+OZ03EVYNZ+12izewBpWzj2VrKfvwEB9F6AFWnhfE3c1yojxC1e07fpXSXVguilZYSUCoUQ30xsTKa7TTFaxB+YQdnukO7zU6wK1qJ1fBBT64NU7R+/OOcbQozQd0kUL99XoMI5q+SyaG3zSJi5QISoc4vbOcQA8QCem75R4Rt329T+FTlsR3T99+pT+ErxwlkbalFN1vTyNMsPoMSO7dGZQepg5BHrgAAAK9BnuxFFSwr/wFR5M1BK2kJdiJYpPtbg1+zV5a4k1p3aADoBRhehXTf28k2DcGWoKMAOCn7L+UQEGyNedSmVJ/kUpiGcBM3JCVUEzlxBt+/4h2rGi/VOHogtdCpe3yujCU6y/rpiFG+BNAZdsA/12grG5WsmKAy76U+RForsmr3V9UWW1oS2I8LwwcRtef0OePoI/zlgl9E5U9GTzEme2y6eSiJt+KTITLP7ztVCjRgAAAAogGfC3RCfwGt846C5cQ1fbz8zgt6/6pVJx+qWWUgow/E8HSA5RnrwANivAnE5Sf1jo7/9EGrQISDs5I/wIvCsYZxrGn8OWrtox2nQ6JW3tMiMDF+9PLtg19PwOB3+kdlE0RJmevVMqmXlpfb5J/bXjYk3KiM2IeIvx2vYX5CvtOeIDQPsuz6+/7jGasgTrcGya+6bXCiyED0/kzu9wI6siEqYQAAAIoBnw1qQn8BrnjOqaX6CenLo55cnr/JYu3Libx+hBZR6KL+MaMOl8ygBVkkPf21vQxoS61DMPRoDQy99F9+f50yDfbvAsxNe08d0JfJEn+jXfZk0mt2hC142buZyYCzv91kYrAiwIaAeBCk1sUslfCLa9rU2VYqK5Odr4C8Ak+gtMwRayJVhyi9UY0AAADrQZsSSahBbJlMCG///qeEAAADAGx9lS5MPVymDBcxg+AEsardb+4ztX1QZEwlgIiF40dpsJ3mS9IkgeTbuA4ybScIgbLaMoFnylUL1uhE942YMk9InuAKA5dvhlWuxhVvzPSdXh0siizl1oxgLSBmRyIlKV73UTyGEAG5V/JUKh0Bf//q25ahWHg5MgOBkp2h7CFGnW/65bWFbwXbFuqAxITt6qq82u09e8p76CXn/bVIPv2g10dUoJGp6hIMC/XIMVyVtzjMBgVdWwvOBQFzIAXIt17Ib3V/A1kLRIXsxJdQV98uSHMaqmx1YQAAAJJBnzBFFSwr/wFR5M1BK2kJdiJYpPtbg1+zV5a4k1p3aADoBRhehXg0rXKrcMjsgAc06oaEdrsbB/jdxKbF5HNVuRXWAUnG77CMDOrqBoFEi2kLAAdGD82cEtJxb803C9h9EXrK68YlVTYeRWAXmtBRVZ87ts2hUlmP3gOiWb9oBqy5C/0pbADBj+yzMXmKsnAXkAAAAIYBn090Qn8BrfOOguXENX28/M4Lev+qVScfqlllIKMRIAbgCknTam3Pb4MEIubLhIGvqT1m6Ef/4CPVTW9BhMHA2RwlOsDanJ39DOcl7CcHYEgYABa0z3u+kC9gJr6NRMypzQo0oApgEU8/FFhghFMQvF3Rg7ycwWgB8v5kMHkbhr9mjm4BwQAAAHABn1FqQn8BrnjOqaX6CenLo55cnr/JYu3Libx+hBZRvNrVsLeAEZqHRie8vakQ/VX/lKkwVhVjt08befF5cr2pI32qBUMSUzx7T+zmNrn2lqtWZi5pHxqdlUV5scacZp3wimoGOCt7Sk/ArG5yQMMHAAAAqkGbVkmoQWyZTAhv//6nhAAAAwAm3yNsGSJ5sAah2z5AHLQik0eHdBpe2tOVYUCZfajd6eKyTu/DzYQ5f2gSIOs2ClzIKEBsK+tV9YGUa7Sihr14eZ7F2hMkh3wdXcZRNAc465erQMxpiwUfesBOvTrvyg3+6Lm85VeGxuyKSasVp+AqZHt+5Os8oJQycsNcamuVsoPnXTraSURZCGS/jM3Plta2btX+g1hOAAAAkkGfdEUVLCv/AVHkzUEraQl2Ilik+1uDX7NXlriTWndoAOgFGF6E4hqMEJ7nIl4VTFGQxFmla0rxRMYDloub/5iACZulVnBnHRkqHs6sM9c2FolQIJUixTOtOP4l+bu2joeeRABL7i4l2wqcbb7iPAfsBiUpXb3sDSIsP4be/K3FRrfu3Rb2SxUjnASssX1xqImAAAAAeQGfk3RCfwGt846C5cQ1fbz8zgt6/6pVJx+qWWUgow7/qAduIAdIhQNSiCiUSB4jNbvvM5N766UfqpQ/FmWV/7IbSsmZyVYHaiadqhZpDt4SUJcB/8KYvGsjKqJ/siA9Ity/AIDeSRevUcuv1H++H6qpM3iOu3tu8m8AAACJAZ+VakJ/Aa54zqml+gnpy6OeXJ6/yWLty4m8foQWUbza0JJH/yx1DCOy4ARrWLyWgdWeJpAkadt8zHHvvJpDm6O6cQc5QPx6w9Cg41uX07P7EyzTI0WuLsGG0jOfm+3XZnXmOBn5/qHAfs1uJXco28KdANoPPuv9QJpvISMxee98W1hbbC3gzIAAAACuQZuaSahBbJlMCG///qeEAAADACOrQGdjJAEOC4sSnA9U4y6H0jKsPKzySLT37CZaIhZ2XV5WrNTzL8QZnDnW4LJQwlDa1eIcL+uBUexPxzwoo8g2yhl2wmPnFuCk5S6zeJ9QrMeCElVmaW3iTyEW7PMwS+405Nlgbfiw/cY2lWeM6AweDdcm0/SQhBHKR86WVGl4+FBElykKKUQu8T/nvep6hwjbHdbxTwXlbK8hAAAAjEGfuEUVLCv/AVHkzUEraQl2Ilik+1uDX7NXlriTWndoAOgFGF6E4hqMDLZ85bUzuZZtATaXkxh/BqhUdC9gAAg0JykBG+moRMFecfEHFsmQT7E5USh8omuHx5AVteM8fBxZUI2Ey+8xuorv7Foyi26V6jw0GvjcRDVNsUTYqOWtYXhCrn4Ph/a3AyThAAAAcAGf13RCfwGt846C5cQ1fbz8zgt6/6pVJx+qWWUgow7/px55C1iAEriLkWPcOy8R0uzdA7WxJ2XF7qeeViU6a32/2sNPghaWv2HBglnfjMlqHSRhn8BdkxC4v85F7TIYO0BjXgrLXpAnq8GOUsQMxUwAAAB1AZ/ZakJ/Aa54zqml+gnpy6OeXJ6/yWLty4m8foQWUbza0wTtWjzpOdSHgTt91Pk17coMwAE6lkxOfhr+DWLMoo8iAWxvjSnVFp2xRM7alGBCKx/nQy5YWdh65jrnWcLU+lmhjSsL/0MXVuNTuCIE6NQhf1PTAAAAwUGb3kmoQWyZTAhv//6nhAAAAwAjqAmWxAG41/JKwQgI0JqXNWI+AhZyMrQeDf6JD3p+HAGFxJkb3QfWIZRRtKC6E1fDhsbcnp6Zcs3WQa73ae0148JElMIqmp07B9nLG1907B5p/pti6pUrMHsG7aS/p6JJkTmUk03PsAfIll+jysSiaaCXXV7g7R3RaOhOPoI+91PI0XkWf9IhOUpaQuYKNfujdZCskQRkmv7VlwTBM2k5WwMBEVVyGin8DHAwpIAAAACCQZ/8RRUsK/8BUeTNQStpCXYiWKT7W4Nfs1eWuJNad2gA6AUYXoTiGowMtnyMxjbi/dUKLnJvL8aXcAGz9P4tn/DPaZREcQvXA0xZKq+1FLj2RIR5z0ns11G4FzT0xPoaTvViXVhOBPa+qK9L3vP3Dh6QgKCymQNsFMYlCp8gnfkRcQAAAGYBnht0Qn8BrfOOguXENX28/M4Lev+qVScfqlllIKMO/6cc2g96Yd6/qmxFcKDj7hAB5hbzb32BegBBvI3wGAIBGUT3QbenwAmYwyiHz5wWPpCWSAMOvvl1fsD8nf1JJj1caWwAoIEAAAB5AZ4dakJ/Aa54zqml+gnpy6OeXJ6/yWLty4m8foQWUbza0w5pF0/+Dslicm810AFuE96agUIjnLiEZk1LYDEtQ/7fF4t7eOUgwkZag4Ou3RUrZb9jlavfQub2sl9ElQmQhyMPY3Gy7ejFbrnpBLKz6SjfWYICAfwGVAAAAM9BmgJJqEFsmUwIb//+p4QAAAMAI6HaX0gDkOC96X81k9yXB6CMTdpl57DSKbR3Dx63tS4IsrQ70oFT2IBUr4Z7/Ny98Ct7HQXCoh3t8PNuDpqt7rzSb3Ilj7Y05kgPi2rI2xaznNl8qQB3pG7Af0VT7LuTSgEewYKv7weZKAhet37mjIJzWLXQzaE6K+WFS3UzjvRW38EXsJ/DXsMI5NN4qogTTbYcZVIW3lwnDCiYlxM7FwG+QUGNaqEaJ6eTr05ToBT89ooIHU2byNSRFkAAAACJQZ4gRRUsK/8BUeTNQStpCXYiWKT7W4Nfs1eWuJNad2gA6AUYXoTiGowMqnmg9c8RtvlGsrnmEZBSfHe95PQAA078Wyi1gu/2D+rmy3o4p6IYS9dmcTtn6PypyTKmftz0kbzT3O9C8M8InBopa/bnGxFKGb1bvKTWUHA1kmQLHg+UwJQ1CGz1hlUAAACDAZ5fdEJ/Aa3zjoLlxDV9vPzOC3r/qlUnH6pZZSCjDv+nHKiChFj2jHgBZMH7feOK/MvdV23Dx8o3+hOfbJb48xm4cgW8tZvBMRbNrNuFnkTJpMzfjNJ7lTQFJH6VBaQq2x9rslORj/ySAyjy7U5dTX+JBW5jtf1I9p3/1mJ/TiGgOaAAAACJAZ5BakJ/Aa54zqml+gnpy6OeXJ6/yWLty4m8foQWUbza0uDJyngrMeAIPoioJG/0akTMHubJH8AOojdLrr7pjuKBTr8LlSZPH+Oegd4NAGpqowPeAT4e9oBD6vOrGUdtXusNaOng+20VQYPr9MayJrY77w4G5reqyqTqVqTVoUZQp73pswcgBK0AAACiQZpGSahBbJlMCG///qeEAAADACOoIjt6TGcvgC+xVQPkwrbpOFGkyJ+ffSyMRq3VaWS8il2BpqPb/A6axGPuDlnLa7U5fjul8RKVtPdAW6X3HYoXypdplHLjIo1U+fmKJzAgb5GjOoAvQOaW8FH1sQDayBtSwMRwgFMQuh1uDHB06SknG5EmIktMNTK9BTDJVkreGIfzO7RyV+s1ayU8sqSAAAAAkkGeZEUVLCv/AVHkzUEraQl2Ilik+1uDX7NXlriTWndoAOgFGF6E4hqMDJY112gCH20V8zARGZjP8oFfkw0V+PkMIYo8wbm67NdsQpo8tT95LLW4ePCiV19EMysOct/v66J+bdzrIG/8augyHWp2xa3veG2M+mrFTfMRD3nAlzIc2SIF5WCApS4nvUSxz1Xh4EPBAAAAbwGeg3RCfwGt846C5cQ1fbz8zgt6/6pVJx+qWWUgow7/rXvFL9OCUnSscF30ZACuZrXnLrkEphOxnlwPVJnEX5s6cLk7uPtWA90UwZBksLfgEooj7+iy4x/mBro6vO3cWDbfOqeeozU1oirnSuLBUwAAAHUBnoVqQn8BrnjOqaX6CenLo55cnr/JYu3Libx+hBZRvNuKjm2FiWBLVfM/PCAC1VeLUVb7EW1oezpZtE1Ld2AY/gCPfD0K4RZqeiRK6WjZtr5PdtFEM+ckRUoKdm66mk6nPdEFeQb/worYSQpj2Kpp76Kwh6UAAACTQZqKSahBbJlMCG///qeEAAADACOn+xGSuEC2FolnEW/U0G8fIw1ge9sYgMwuV/gWRk6YkE5I9DuQf0a2rS89xOsi8XiLS1yufTvHsC2FYdqgR23CsZOnRdt2pdV9G75HV2VHCjjA3xs8Win2sw38CtR1rBqNiQ+uapbrHWefD4ZvV9Kayv+Ny31khcKWJW2FXcehAAAAgkGeqEUVLCv/AVHkzUEraQl2Ilik+1uDX7NXlriTWndoAOgFGF6E4hqMDM+UJaQgt0edWzX90eACCarH/HG25wvUvkyzA7mr8Ei0kfWsucrOEBDM6Pi8iXswyPaD30ocSFCSQgKahx7puF5pjaxIaoDK9pI1RF9SwVuw/LvGAz9ARcAAAABxAZ7HdEJ/Aa3zjoLlxDV9vPzOC3r/qlUnH6pZZSCjDv+osSNousDcTq24gBDDjofxyk0TQp/pbkj+AI3WW7Pf4Wyp/ednCMDlh4tslcMYKEC+2TU2WDxFfHBFF27zNBqFpVVZeSQOiSo3K8a5j6wAMaAAAAB0AZ7JakJ/Aa54zqml+gnpy6OeXJ6/yWLty4m8foQWUbzbBI/hr7SQIAWoAOf0Q1R3YH7FUu6DNAFD2ooorbPXF3PdMTPUafxSptcZadjZGmjMnV0utOD5DGCQ4zJtV3gNKG9eLKRyjWA3KW28rd9beQuQQccAAADSQZrOSahBbJlMCG///qeEAAADACOn+wHqMdAJwjHXsMkwRPWSdBMPyb2FRRiTACpAkM6xY5NSNz9f9LxQZ50ISf4YMcOE1Ox3iSlzOajFSSQDUHxuCcZpTIgxVY+VpUwVUis99hWC8gimsoWGB3ZSe3sTxghl1hZzVQqFuN7z7sd7SNUAIFHoy9j99Cmj1fWOwYpGkoOSNoMCLEwWY/MCUkZK91Gc5WvDRqX3FIht+cnKcAcnrVYQZZ9Tpdl+Z2gdbt0itCN7cWiDLhNEIAqzFlSQAAAAdUGe7EUVLCv/AVHkzUEraQl2Ilik+1uDX7NXlriTWndoAOgFGF6E4hqILJa+8v7gEogmfnNeLzJ2kdP2U4jybzACdmorH6qGSQV4EhU2FKmCFBYCKFA8N5W0v6euO1cfx9mYTizVuDEP1JWOH8ob3RSjt0oCLgAAAHgBnwt0Qn8BrfOOguXENX28/M4Lev+qVScfqlllIKMO/3z+RYAGfkgUUXYw5LKV5xcWZIBuOTDPu5v7KzxlDgrjZ8/pf4PlPk9x7zuo5ucgQ/KbcUVWhCLZURqOa8QxaJczvuWRZesN5ossXkrJuD2TB444CCN0FbEAAABXAZ8NakJ/Aa54zqml+gnpy6OeXJ6/yWLty4m8foQWUbzWFrS69vZbg4ABMYgbroSHJ8FePxy0fJ6FW1UrGfmKXJwUgXzgoznqOKRbyEdj+zItqaG+NgKDAAAAnUGbEkmoQWyZTAhv//6nhAAAAwAj3Syqg7cUxZMABYjVzvgRdVEbOlCPcy5zEVtsnyk5rXxnpWL5S50rsFTvVkpK3iwZE6F4xc6bMexDIQoa0C/IGfahN5dChc46Z55w9alnd5heV+dkDsdy4s5iU+lY6AXH59gPVRM7a7B6VfAT3koRWwdqXKsuj89dnQw0uYLPjBJBzJgfgnQrwIEAAAB9QZ8wRRUsK/8BUeTNQStpCXYiWKT7W4Nfs1eWuJNad2gA6AUYXoTiGofp00gCrKzIBKPeAHt7vtmM4FLFhqXP7rWkvPFSFKgmNIicob3oZ56KoK5MalSd+4VyoOIDE/GRo8a7XijRI3VXEq1kriaTuV5R9gznInvGv27/BFwAAABdAZ9PdEJ/Aa3zjoLlxDV9vPzOC3r/qlUnH6pZZSCjDv96JInBzCREdG5Gv+7u1AAHKxV8QXLTzk/0gJBJth3KVFfguXt8dMRe+Q8bBvtzfqZ2wEcOq533vYln1gbUAAAAVgGfUWpCfwGueM6ppfoJ6cujnlyev8li7cuJvH6EFlG81hUzPu81316WPlGWgBNMXAhDqa0OYloUMq5P3+PSiGVfsMb2I3S99xC6LITvsDX5c+2jwQr5AAAAdEGbVUmoQWyZTAhv//6nhAAAAwAeXHNj3oAUGe4WPR4sTksDdlVnjUDJWIUyudgoKS9OXlpJQEUCuPYIJBcZbQkiYLaDa7VnDTY+dJEk5BS+/ayRaC2y/ya8igaAyHN6zZZDyiPjhsX+zSxWcA5jliHhn3UgAAAAbkGfc0UVLCv/AVHkzUEraQl2Ilik+1uDX7NXlriTWndoAOgFGF6E4hqCTIOxTkDLeHt/5p6AcQTAC4vu3MnhHlg6ZW8iuyHNWIS4Px3ys89TOpVjLJdCZUDx4ggkZNddSE9QmjsuUKIT69DlWpkXAAAAUwGflGpCfwGueM6ppfoJ6cujnlyev8li7cuJvH6EFlG81Ty7vjCaOztAB6s/KqwK49wT06OTmdOKX9JAYy+m3h1ovh4pE9slbUSLlCgFKtx12I+BAAAAvkGbmUmoQWyZTAhv//6nhAAAAwANzaZFdKG+mmJlcAVeQ2L/n28cQopKN4Hwn2v9nO9uwA669cpAMWDyo5jj6ykplIvBkXJd6gcz5S8+ibTKwJyrSGETbplL8O2b+/CG/D0dkIj0PHQrwEp7eqaeAK1QfT2VpuUJNnHUe7+MhBjdkT1ri7KmqLHsWQ37ERbZNKvY+TOGGL6U+YHq51cFPNfPhN84E7AyBhBP+IZQ7wzMEyDdOSuqHuTXq+0onqgAAABiQZ+3RRUsK/8BUeTNQStpCXYiWKT7W4Nfs1eWuJNad2gA6AUYXoTiGoU8d0l/EAAQL+2UilJOrVflhvL7y7nWVI0Hs39mcYEnbA7cjDYysS3j3VefRUEwI7niwiHWhxmkCvkAAABVAZ/WdEJ/Aa3zjoLlxDV9vPzOC3r/qlUnH6pZZSCjDv96K9qwvs7+34saoTDULR7qJXhXBTgAdoc/E7RXV30vlBCkeJmDbQCm6+t1NeAtoNSgakOz0wAAAEcBn9hqQn8BrnjOqaX6CenLo55cnr/JYu3Libx+hBZRvNYWAUyZ0phC0JsPdsgQA6P3f7rzUABfVUmeUtknM0C2X39xejS2gAAAANhBm91JqEFsmUwIb//+p4QAAAMAI98FSebsMyfhDsfVzANMHLk/s2WOeRqJ3GbpXw2QKBn7MyLqojzkegN086aykL2JsahezkNHMRSSVv8EPz4/dcaW78mx1+hOCo625subtT6VjczwlyTecSPepHbtDpxB2jGzKGhImixovca3GIq4LCtvasPv0M19A7gcpNCebjFiafBFS5m0TWkyJtDfERVjRAQqkUzsGpSs36VH+7rwg/7P2wopuZPftOhbW3zfoDD/64wqlwCuJHaQ/FbhQhMzJEt3JuEAAABYQZ/7RRUsK/8BUeTNQStpCXYiWKT7W4Nfs1eWuJNad2gA6AUYXoTiGoU8l6reRZvAAEHgdoP6fXyYORf2AAd5Bv2cbMcvV9254F/6NjTBmlALppIa2aRDKgAAAGABnhp0Qn8BrfOOguXENX28/M4Lev+qVScfqlllIKMO/3IHWJMq3yucEUfETfqF+cebAAXrjf71BkNMtkxlpuV9NL803V/gBtJNDphgbBjjXaAqrggg4xuuoWbyMOUE1RUAAAA3AZ4cakJ/Aa54zqml+gnpy6OeXJ6/yWLty4m8foQWUbzVPLojPW3Q/khcgeBWu+i50fqDO8w+YQAAAPNBmgFJqEFsmUwIb//+p4QAAAMADXmtAxDbAvWW4Ajn+27Gp63HbiNvzcLWYLPS/Uga+mHhbgQS8MLhTBxwZcAQhNhWrtRxPh0gsnYi+E/yQf5ihRzuHUC22K8qCLDJkMAkvuf5HdtrvO1JIBkrlRszt3mQ24vIzbAmiF83o1plZvGPc3BTxZTXp3tJPuth6U5tTKFhHG8fR39L//fjpTVJdj4O3wWV/EKgoHv1RqaKCaRtND5LB5/5KcIMDetu12JB20TTn7ODCjrx31mxnEhRTKgWIw9SmmymxrXCqonErUuw6ADGcqx26KZNy8UMFUdGyNwAAAB+QZ4/RRUsK/8BUeTNQStpCXYiWKT7W4Nfs1eWuJNad2gA6AUYXoTiGog/6EtqeV/iUAVvy3NASppByShQhDoHeV6n7Vs3Iy4gOX1EXStu/GFZHW8fRptvU3BEkLW9fhhJaS1PjcQ/53nAdGXFerWRIrdpudnqiOb+7j8qesekAAAAZAGeXnRCfwGt846C5cQ1fbz8zgt6/6pVJx+qWWUgow7/fCtJpAVAASzqAi1QzvhOpNAYeROrDZOAm7RbtNqj23rjhE5+b2eq4y21neJZoUST+YqMgM3DD9zyax4zXTO2YfUQ44EAAAA4AZ5AakJ/Aa54zqml+gnpy6OeXJ6/yWLty4m8foQWUbzWQe83KMn73PKoWbozTpLYMdOjsXBYMGAAAACsQZpFSahBbJlMCG///qeEAAADAA2IVjNmIAqwXPR8RRsDPaq3dtRsNRoD6vD5+9K9vj4asCRKVZfUIZNrI3FSu0hPaVtlF210fx2kJ3GrF6V1QFil3y5EkBu7yr3u9rzSVHWq1aJAUp6lb3o7eDf8fJFdGay49s8t3vXWxcwjOhVgx5Xa0FaVGHBHimXE0H718OYPaN48+YIksPIKDZTRXsBnK1SEYbB9yjREwQAAAGBBnmNFFSwr/wFR5M1BK2kJdiJYpPtbg1+zV5a4k1p3aADoBRhehOIahTuPD4gIAQp6E52xj6ZAZeD+gOvcxw+lcj4BCbNNxNXBs8w9k2dDMwfpxoFvbRUOPNPnDlEAO6AAAAAxAZ6CdEJ/Aa3zjoLlxDV9vPzOC3r/qlUnH6pZZSCjDv9yB1kifg7QIIohamsZFkA44QAAADABnoRqQn8BrnjOqaX6CenLo55cnr/JYu3Libx+hBZRvNU8sPBYDKi8JTEE5GxqFbEAAADlQZqJSahBbJlMCG///qeEAAADAA16PVixe3FiAOALY1Dia7QkN4grwEBM6NuhYhQ7D2/Ugb/7RCJ8ekCqGDWB8uslVG1+ILpRRtAkUU14Hbvl7TWtaciW+3Oldb1LUSOSYjHCzaAw0wAWVHDBfhZakdwCVcqDRS9Nl142BeyqpSLnWDnzCcN0FMWYwvcKTUf6cdrmctt4l12rJDT+F7OSNGL0XOoPOJ6WlMj98RZviaAdjvGhZSs1wvqhc003VpdMR5b/bcu7BPtjwHtJJhdgr7WLKaqwnXPEXXQjWWZB/BfnpF+N6QAAAG9BnqdFFSwr/wFR5M1BK2kJdiJYpPtbg1+zV5a4k1p3aADoBRhehOIah64jDMGMaOZFupABZIzKVt9RbOf5X6finIoUtsbuxoBAK4RlRlMWjmeaygfPrsXN7Cor1KUe0mqSVWVRSdRfrDar8JSABF0AAAA5AZ7GdEJ/Aa3zjoLlxDV9vPzOC3r/qlUnH6pZZSCjDv9yBv5kSPL9p53rIwAXQO6UQBzlELzfJAj4AAAARwGeyGpCfwGueM6ppfoJ6cujnlyev8li7cuJvH6EFlG81d4qfg/lp4rp9Lw/zn065WADk8yMHVgVWKB++Fag3d2xflMx1gFbAAAAy0GazUmoQWyZTAhv//6nhAAAAwANffo0ZigBzBHJZmJplvBkdTV7Dm+071xthhmvf9SA/zufX+HHd/o4odmLwBtF9M312KYafzH1vja1Hm+fnnc8jPHwkdgo1Px2j8TaBOhhQrtLX6LdxxlkKbTgm0OH8XZ9ZUwO/1T3dAd3fIL0AjvTEgZxsV8NhIUDF3x74/NPVSHvSKCc1lsClAEj9HM+i2w7JC8IQOrFO+8FDS3N4QqVwcAsTbAwLWfWsTPzl65B93Wc+MeuadETAAAAcUGe60UVLCv/AVHkzUEraQl2Ilik+1uDX7NXlriTWndoAOgFGF6E4hqFPJg4XwXsAHGrQJP3o1mwzZUJsYZ4gIrN6sYFJJ0PnfL7bEMg2YFZ7qUkZSHCevC895ZJ0Yld3N+gM8trQld9c4SfOVXqeBDwAAAAUgGfCnRCfwGt846C5cQ1fbz8zgt6/6pVJx+qWWUgow7/cgd42NFG5gALqNBSMJmPpvKWnpyFXpoLoAl6zHlMUiPi0DX4SIGYewZupwxc+JVADPgAAAA5AZ8MakJ/Aa54zqml+gnpy6OeXJ6/yWLty4m8foQWUbzVPLjtttQhyKnWgA5v6WOGOWc47xq+6AbNAAAAkkGbDkmoQWyZTAhv//6nhAAAAwANekVprTFQJQ0gD+sYgtx1SWZMKJ7gD1aPcogKkSzVmiiFeouiPDAI/UgI0z7mU/9/C/Bi6CrLN8Udw9Hrir5I+R7hc/oA6f/Ux0xraQMGC/4wZ01buzy2rUm6YxSGkUZzjQz92863uVHZVwBT1Ae2mcBTZzXnzjawNN9wTs+BAAAAf0GbMknhClJlMCG//qeEAAADAA4hCLgBYek9yQbiOvQCfCZ9p1pgmp8kuBbGkvvyiRu183wWX39v6JjnHtsp+bzGAqUgIpu2vJLvQrdhZpdTrGeH/4ApSns+nKjS0W6XVuhktibLWoycypVPSPScz6ZXweAoU+88uKBoYdy6+6EAAABaQZ9QRTRMK/8BUc2NdJwuyfDUh43IDLU4iB46iwcYhV9gDRg74sgaiVIbikq4AFgmc6Xo/A0zAmM7Mi2eceBAruHu8CSf+QR99z2hmP2qz+zy1no8OyZBxxxwAAAAcwGfb3RCfwGt846C5cQ1fbz8zgt6/6pVJx+qWWUgow7/fDI9pwAGzgyOYL8wyfbBCrAF9TEouXPz8SNwdovmNhMHeQaPA7gPUO8YRf9cn3mFTKZuGQWKMnyFz+EedAstU0Yd8z1r94eU/1FK1Sn0DYVwErAAAABNAZ9xakJ/Aa54zqml+gnpy6OeXJ6/yWLty4m8foQWUbzWQrnBpdyyNoALW92Sjy0yZJWeZXVQHsdrXYGuiNrLSi432CdEK5Xf0WGw0IEAAABcQZt2SahBaJlMCG///qeEAAADACWz4hSAI26vAf+jWwV/XUPeVD958POuFxsyiaDHJfmiF5Op97jWyaMKf2rznizwJUr9wKwrgPTp1zUY/6KSbnrobVvTYl3GyoAAAABmQZ+URREsK/8BUeTNQStpCXYiWKT7W4Nfs1eWuJNad2gA6AUYXoTiGogiC5J8Aa8VIj9bAESDWRc+x0dlG7xGhQOcuXUTAZEeDwghbQMOXf2+YPJ4X9gEEuPSLi7tvblB01LmpoN6AAAARwGfs3RCfwGt846C5cQ1fbz8zgt6/6pVJx+qWWUgow7/pyDWazv4AOL0IqCRv9GpE90nrt0RtRJBQZ2ErpkFRZHvDS4BsJ2BAAAASgGftWpCfwGueM6ppfoJ6cujnlyev8li7cuJvH6EFlG82tL83pTcEhSAOUVg8WJxZX2el056iiglAlkWcBPNIfRlvR5Q3ijDBaOOAAAAIEGbuUmoQWyZTAhP//3xAAADAAU/lL4+xGNjl+pt8YgZAAAAO0Gf10UVLCf/Aa695INrem+ey6kcwa/8du7iXSQNbgp1A7YTIRYOhgksz7fO1z0gll4xOkWu0sO4bAVNAAAAKgGf+GpCfwGueM6ppfoJ6cujnlyev8li7cuJvH6EFlG82tDivEt7E9ABRQAACSVliIIABD/+94G/MstkP6rJcfnnfSyszzzkPHJdia640AAAAwAAAwABR4e1643dg1tJ0AAAGsADpB/BeRgx0CPj5HCOgcBEi8AtxX2Dh19IACdJkUSpASLrYuCWE1VRGu/EzNJOsUqOB6ZsGusM5deMtfp7eoEWn6Gx6SJCLvzN/5GfSOKd1Zz/0XFCprtw8r2wfNTKaF/xnagck0inBEuAul9Ya8A7Qna2J51Zq0Le39S89M9KMOi5ROkXvv2qlr45dlc+6ecpVAGOCCIyBfHnDK1DbEsNxY7fTTaD+ozy/PmiqHFj5aO/5wVdpDc1zsPhzT0dVvwJcW6/kfHhJ6hh00Z47mgNEA7jTp/r6ic3X0MDDwPD1rhlQnA3o9SO7oeadc/8fbFbwreGduIPCvFtLQwcGTKB43RmFERyl/2iZYImxwQxCK05dBUABlF5hufCwklSue2kPTx+Dsp9K4SyIsKWr8vifzRy4wSlWEk/NKTGihst3yYgKG32fyXKYjbCUdMqfPn+Jg+zGriAES9tfs9ulpstntlfw4p0gkFbUueSZUxEWboFA6/xJfHeXohLThaUp4No/EpT5AMaDm5/Lk3/l4ZkbCvVjNbGKcuJ+kIVbIBRgJ085Vnczzanl0pLSY+GJ+AWOg+AIV+kVAI9l6XGnj+fP2iphp/Mf6eUxvfcOn3mUinECNpn9NRZEmVIf3lfodHxe9/V+LM1TgomxJHNuRYBI/WgNS5wgchx+C5Vyt+xokaWiXVQUlaKSDUoJgJA2C1EtqqwyQ2jBV21JVNTQjF4dU6zw89bRsaPK+6gAKqPsEOt0sGJwGGWb1fItvSPk/LvlwU0BCqCQLi26dhjYsrXGPJeN4gtf76DYr/PtlGMexp/8dM89NxRc1CmOjikskmHDybR5z1xdk1DaMdwCZfiBnLF+7D0rvby3sRILjQ8/AYiApoaxlUZECPvfz/sPaeMIjktRWueT3MAz8x+nwvmK1tTx67++qHvbl9nQk8bscAKqMGU9tXjntlmMQkPsTh6gPf3+3lJqw5S9KjpO5Rrmsxj7Q/4ET0EHzjCbhimD5mZwvtxYHxB3fKqLZIU8Tl31An5+Uh4myvql6HU2uhbDFSp70u9SdrS2hEXb3KKJy6kHuTax7bEEMPBV7TQBlURfsnN2wv2Bvk6jSm3XRJqUrnPvTJ4t6xS6R0wNVYU0Sz0bcMArm1H7aPgfM359C/u/IvmnXYg5gI2WwXJ4y6QrmW2e3Nd637Woj8Or7aL6L+BaV23FltW8qYqUdf3VNKauLuV6OqwKGtqy4atwvQreIkICZ/+NNoTk4Gascl7p701n41q6+B6aR80lA5g/9Fi7b7CY/2KobtKq2eQGfg74gwYomoaDNxcO63PpHb+BY5Dha8F+a6Ka+syd7BWYnp+uLpGyEvUQPq8i1BfgOUju9ajoJzQvkzEhHCOzOEhNB06M5A+JO+kO5JZZ+O4pMQRL3FjONZO2wThJkO1QUj9vz1J6gbvmgSm0ZnP/z2rfpRgILu7DaO11BBygq8xkHe7XLnSrXG8PK4R+9KzV0lqEeKsM9ClVri9i9N47X191Mss7BjP4IEeWcU+bXtMptXo0NSobQ7ngJdS4GdP535e7UygVB1FUChh9qVjUbI2PFHuOG0eBlihbQn96s9kUZPUbve6Kz6p1j2kbqZKz6xGd44PV+pguQbRv3jwNnKTNvzOKj8ee7LeuBIZ5izZsA28mh9MnMNiylg13DDEVQt7/eY1SBgwmFacigcHFFuArrS980P075sWhd/CRzdl6N0pv/3GE3Cr7sRvwjI8K8FySf0d0kG3nzXdKgrXyvVpItFCizAkSYyTA1wvxzkjdIkJs6srrW4sO5yZHJWQRspYpOncwSvaOqmo7aBCf0c2BOFZbckEGhHWsM8vGTNGF+/6wr1ZYytZvIg7zYrHgWvO4XoEnrDKsgBeSqNeBYoXSWzeOMfFhUxTZgzpe1F8oCEJbC91inEkSOvhMJssDdJKe19bCFHxMc+IxacjMNfEwij6XvWoFEzls1MeCgijL9bfucaCCxx70h2D0iUnUcthPHL6PcDk736uSi95u95pOjrM6rJN+r7DlVIvQrpivOZu4XXt08iogHd7MCGqnE1zmpfsBCXvTwXP8l2t6vrZ7nrFV2EPBK1D5WlesU6kdRY1ktObFFDaIXg4GGzYg9YNkui8SOs2b1OCddclMntRjyD5iHyAFQg/MNTgRC6BQwek6Yg2yHqcNv6onKgZu0z+VjB4+0syfADguUzBvfsABbHCn31KuY9Ft/al99nLON2zcf1LEe8Y0pzma9z0VsTnz5a8TEHxa5idQWHoiv6CkZprkE+a4sRwcefD4jruuwCnWBmY79U5TOzbrCnqxALLJH1mrQPBmx+N9uYpZa6soLHIKoMJsy1QEPpa01Bq6hRQ0P3CZ/pwUdRaVlVkw+QCiqqHrs3Iklh/1teW4rO//1kgpOVJZd1/uHegoqRWv4NT2FXRHq32tg5aXBQ7W7Id7pF2Mc/hJepIt2lBbJsoRRF16G9K87LUzmc49v5QGsHrJMS0GsLPZLuqjN25ELCT0hV45LswvY7DOAMVxDObPbqxe+VIAmpqGiW4nKnB7AkUmw9A4bj5gUh1xW+g5JgXLTobLmJNdEMJ5Rl7/ryp4I9AQ9gTf0Y5jqvKeUiqFTxmKDECOKNvl0yrwcRasLR1gkac34cUutIY6LsPzK49ZyZZlD+e5////5Yc5kLBNUAZLqA9Y9VyokXgA3IXBV0vKGAJIqHCe+D7d4msQxBfikGbYcdUiM/Wu1bIeHCUEWXzAb+6scC6tWnOt5TqKiNOTRnod9gEQsn0iPJbn6qdnYrSLiPgMA7j+MhslGrX1aQlgYV0r9cwYtDFwmwLw14/CPYdYgHFx0Xhy7U5XRmVuAh3XuI0sv2+mScpikaNAG3XNMt2e88neH2cj9NNrYDSg058kx8ZsbqQ+G98EoU7LN6zQp7gi+VhBUHvnGPxTqh2apIAGEatA6inyGlSYo7G9tUUQBpcH4AK/AABu21jTNtkbAgrWmh3dh+0lPk9u7vj69i4C0Jq8N3+SQUMBScnO5UzUxYJMdAAHUgRgDchAAAAVEGaJGxDf/6nhAAAAwALoQW2ACoPsGDiPTDZe9Oifxy7NHbzQ7NJeNujd9wJfEm7EslZWKzCmQW2Lc1MmoWINPdCoCw4blCcm0n0gISTplCyV5WAPgAAABdBnkJ4hX8AAAMAAaYf8LwfILSsoG+VwQAAABQBnmF0Qn8AAAMAAhrSeoDd2LBJKwAAABMBnmNqQn8AAAMAAM48BYM65ulwAAAAG0GaaEmoQWiZTAhv//6nhAAAAwAAw9pmfuzapgAAABhBnoZFESwr/wAAAwAAnzRPyWUJejOyW8EAAAAVAZ6ldEJ/AAADAADN+T7CreFwMlvAAAAAEgGep2pCfwAAAwAArNwQrpoGmQAAABhBmqxJqEFsmUwIb//+p4QAAAMAAAMA1IAAAAAVQZ7KRRUsK/8AAAMAAIMGai3SIGmBAAAAEgGe6XRCfwAAAwAArKM3x9pkcQAAABIBnutqQn8AAAMAAKzcEK6aBpkAAAAXQZrwSahBbJlMCGf//p4QAAADAAADAz8AAAAVQZ8ORRUsK/8AAAMAAIMGai3SIGmAAAAAEgGfLXRCfwAAAwAArKM3x9pkcAAAABIBny9qQn8AAAMAAKzcEK6aBpkAAAAXQZs0SahBbJlMCF///oywAAADAAADA0IAAAAVQZ9SRRUsK/8AAAMAAIMGai3SIGmAAAAAEgGfcXRCfwAAAwAArKM3x9pkcQAAABIBn3NqQn8AAAMAAKzcEK6aBpkAAAAYQZt2SahBbJlMFEwn//3xAAADAAADAB6RAAAAEAGflWpCfwAAAwAAXTzfrAgAAA/SbW9vdgAAAGxtdmhkAAAAAAAAAAAAAAAAAAAD6AAAI4wAAQAAAQAAAAAAAAAAAAAAAAEAAAAAAAAAAAAAAAAAAAABAAAAAAAAAAAAAAAAAABAAAAAAAAAAAAAAAAAAAAAAAAAAAAAAAAAAAAAAAAAAgAADvx0cmFrAAAAXHRraGQAAAADAAAAAAAAAAAAAAABAAAAAAAAI4wAAAAAAAAAAAAAAAAAAAAAAAEAAAAAAAAAAAAAAAAAAAABAAAAAAAAAAAAAAAAAABAAAAAAmAAAAGQAAAAAAAkZWR0cwAAABxlbHN0AAAAAAAAAAEAACOMAAAEAAABAAAAAA50bWRpYQAAACBtZGhkAAAAAAAAAAAAAAAAAAA8AAACIgBVxAAAAAAALWhkbHIAAAAAAAAAAHZpZGUAAAAAAAAAAAAAAABWaWRlb0hhbmRsZXIAAAAOH21pbmYAAAAUdm1oZAAAAAEAAAAAAAAAAAAAACRkaW5mAAAAHGRyZWYAAAAAAAAAAQAAAAx1cmwgAAAAAQAADd9zdGJsAAAAl3N0c2QAAAAAAAAAAQAAAIdhdmMxAAAAAAAAAAEAAAAAAAAAAAAAAAAAAAAAAmABkABIAAAASAAAAAAAAAABAAAAAAAAAAAAAAAAAAAAAAAAAAAAAAAAAAAAAAAAAAAAGP//AAAAMWF2Y0MBZAAe/+EAGGdkAB6s2UCYM6EAAAMAAQAAAwA8DxYtlgEABmjr48siwAAAABhzdHRzAAAAAAAAAAEAAAERAAACAAAAABhzdHNzAAAAAAAAAAIAAAABAAAA+wAACIhjdHRzAAAAAAAAAQ8AAAABAAAEAAAAAAEAAAoAAAAAAQAABAAAAAABAAAAAAAAAAEAAAIAAAAAAQAACgAAAAABAAAEAAAAAAEAAAAAAAAAAQAAAgAAAAABAAAKAAAAAAEAAAQAAAAAAQAAAAAAAAABAAACAAAAAAEAAAoAAAAAAQAABAAAAAABAAAAAAAAAAEAAAIAAAAAAQAACgAAAAABAAAEAAAAAAEAAAAAAAAAAQAAAgAAAAABAAAKAAAAAAEAAAQAAAAAAQAAAAAAAAABAAACAAAAAAEAAAoAAAAAAQAABAAAAAABAAAAAAAAAAEAAAIAAAAAAQAACgAAAAABAAAEAAAAAAEAAAAAAAAAAQAAAgAAAAABAAAKAAAAAAEAAAQAAAAAAQAAAAAAAAABAAACAAAAAAEAAAoAAAAAAQAABAAAAAABAAAAAAAAAAEAAAIAAAAAAQAACgAAAAABAAAEAAAAAAEAAAAAAAAAAQAAAgAAAAABAAAKAAAAAAEAAAQAAAAAAQAAAAAAAAABAAACAAAAAAEAAAoAAAAAAQAABAAAAAABAAAAAAAAAAEAAAIAAAAAAQAACgAAAAABAAAEAAAAAAEAAAAAAAAAAQAAAgAAAAABAAAKAAAAAAEAAAQAAAAAAQAAAAAAAAABAAACAAAAAAEAAAoAAAAAAQAABAAAAAABAAAAAAAAAAEAAAIAAAAAAQAACgAAAAABAAAEAAAAAAEAAAAAAAAAAQAAAgAAAAABAAAKAAAAAAEAAAQAAAAAAQAAAAAAAAABAAACAAAAAAEAAAYAAAAAAQAAAgAAAAABAAAKAAAAAAEAAAQAAAAAAQAAAAAAAAABAAACAAAAAAEAAAoAAAAAAQAABAAAAAABAAAAAAAAAAEAAAIAAAAAAQAACgAAAAABAAAEAAAAAAEAAAAAAAAAAQAAAgAAAAABAAAKAAAAAAEAAAQAAAAAAQAAAAAAAAABAAACAAAAAAEAAAoAAAAAAQAABAAAAAABAAAAAAAAAAEAAAIAAAAAAQAACgAAAAABAAAEAAAAAAEAAAAAAAAAAQAAAgAAAAABAAAKAAAAAAEAAAQAAAAAAQAAAAAAAAABAAACAAAAAAEAAAoAAAAAAQAABAAAAAABAAAAAAAAAAEAAAIAAAAAAQAACgAAAAABAAAEAAAAAAEAAAAAAAAAAQAAAgAAAAABAAAKAAAAAAEAAAQAAAAAAQAAAAAAAAABAAACAAAAAAEAAAoAAAAAAQAABAAAAAABAAAAAAAAAAEAAAIAAAAAAQAACgAAAAABAAAEAAAAAAEAAAAAAAAAAQAAAgAAAAABAAAKAAAAAAEAAAQAAAAAAQAAAAAAAAABAAACAAAAAAEAAAoAAAAAAQAABAAAAAABAAAAAAAAAAEAAAIAAAAAAQAACgAAAAABAAAEAAAAAAEAAAAAAAAAAQAAAgAAAAABAAAKAAAAAAEAAAQAAAAAAQAAAAAAAAABAAACAAAAAAEAAAoAAAAAAQAABAAAAAABAAAAAAAAAAEAAAIAAAAAAQAACgAAAAABAAAEAAAAAAEAAAAAAAAAAQAAAgAAAAABAAAKAAAAAAEAAAQAAAAAAQAAAAAAAAABAAACAAAAAAEAAAoAAAAAAQAABAAAAAABAAAAAAAAAAEAAAIAAAAAAQAACgAAAAABAAAEAAAAAAEAAAAAAAAAAQAAAgAAAAABAAAKAAAAAAEAAAQAAAAAAQAAAAAAAAABAAACAAAAAAEAAAoAAAAAAQAABAAAAAABAAAAAAAAAAEAAAIAAAAAAQAACgAAAAABAAAEAAAAAAEAAAAAAAAAAQAAAgAAAAABAAAKAAAAAAEAAAQAAAAAAQAAAAAAAAABAAACAAAAAAEAAAoAAAAAAQAABAAAAAABAAAAAAAAAAEAAAIAAAAAAQAACgAAAAABAAAEAAAAAAEAAAAAAAAAAQAAAgAAAAABAAAKAAAAAAEAAAQAAAAAAQAAAAAAAAABAAACAAAAAAEAAAoAAAAAAQAABAAAAAABAAAAAAAAAAEAAAIAAAAAAQAACgAAAAABAAAEAAAAAAEAAAAAAAAAAQAAAgAAAAABAAAKAAAAAAEAAAQAAAAAAQAAAAAAAAABAAACAAAAAAEAAAoAAAAAAQAABAAAAAABAAAAAAAAAAEAAAIAAAAAAQAACgAAAAABAAAEAAAAAAEAAAAAAAAAAQAAAgAAAAABAAAKAAAAAAEAAAQAAAAAAQAAAAAAAAABAAACAAAAAAEAAAgAAAAAAgAAAgAAAAABAAAKAAAAAAEAAAQAAAAAAQAAAAAAAAABAAACAAAAAAEAAAoAAAAAAQAABAAAAAABAAAAAAAAAAEAAAIAAAAAAQAACgAAAAABAAAEAAAAAAEAAAAAAAAAAQAAAgAAAAABAAAKAAAAAAEAAAQAAAAAAQAAAAAAAAABAAACAAAAAAEAAAoAAAAAAQAABAAAAAABAAAAAAAAAAEAAAIAAAAAAQAACgAAAAABAAAEAAAAAAEAAAAAAAAAAQAAAgAAAAABAAAEAAAAAAEAAAoAAAAAAQAABAAAAAABAAAAAAAAAAEAAAIAAAAAAQAACgAAAAABAAAEAAAAAAEAAAAAAAAAAQAAAgAAAAABAAAIAAAAAAIAAAIAAAAAAQAABAAAAAABAAAKAAAAAAEAAAQAAAAAAQAAAAAAAAABAAACAAAAAAEAAAoAAAAAAQAABAAAAAABAAAAAAAAAAEAAAIAAAAAAQAACgAAAAABAAAEAAAAAAEAAAAAAAAAAQAAAgAAAAABAAAKAAAAAAEAAAQAAAAAAQAAAAAAAAABAAACAAAAAAEAAAoAAAAAAQAABAAAAAABAAAAAAAAAAEAAAIAAAAAAQAABgAAAAABAAACAAAAABxzdHNjAAAAAAAAAAEAAAABAAABEQAAAAEAAARYc3RzegAAAAAAAAAAAAABEQAAClUAAAE0AAAASwAAAE0AAAA9AAAAgwAAADQAAAAjAAAAIQAAAMEAAABOAAAAOwAAAEYAAADSAAAASAAAADYAAABGAAAA7gAAAEwAAAA9AAAAWwAAAMYAAABrAAAAVAAAAEsAAAF+AAAAdQAAAE8AAAB3AAABRwAAAG4AAACKAAAArgAAANoAAACfAAAA0gAAAKQAAAEZAAAAfAAAAJoAAADCAAABVQAAAL4AAAC5AAAAuwAAAUgAAADNAAAAvQAAAJgAAAELAAAA5gAAAL0AAADDAAABaAAAAOsAAADsAAAA2AAAAUYAAADCAAAAvwAAAOgAAAEQAAAA5AAAAOYAAAC7AAABBAAAAMQAAADJAAAAvAAAAQ0AAADgAAAAvgAAAL8AAAFZAAAArwAAAToAAADgAAAA1AAAAMgAAAEUAAAA+QAAANwAAADfAAABHwAAAOMAAAEGAAAAtAAAARwAAADuAAAAogAAANIAAAE4AAAAvwAAANYAAADjAAABHAAAAL4AAACyAAAAxwAAASYAAADQAAAAmgAAALoAAAEeAAAA/wAAAMIAAADYAAABFwAAAMMAAACcAAAAuwAAARkAAAC9AAAAqAAAAJsAAAEtAAAAnAAAAKgAAAC7AAABJAAAALwAAAC7AAAAtQAAAS0AAADkAAAAtQAAALEAAAEhAAAA2wAAAL8AAAC3AAABIQAAANkAAADBAAAAsQAAAOIAAACvAAAAwQAAAK8AAAEdAAAAsgAAAJYAAACAAAABRwAAALkAAACgAAAAlgAAAPsAAACsAAAAnQAAAJYAAAE7AAAAvQAAAMgAAAC2AAABCwAAAKAAAACFAAAAnwAAAR0AAADNAAAAmAAAAJQAAAEBAAAAmQAAAJoAAAB5AAABVQAAAJsAAACGAAAAiQAAAUsAAACzAAAApgAAAI4AAADvAAAAlgAAAIoAAAB0AAAArgAAAJYAAAB9AAAAjQAAALIAAACQAAAAdAAAAHkAAADFAAAAhgAAAGoAAAB9AAAA0wAAAI0AAACHAAAAjQAAAKYAAACWAAAAcwAAAHkAAACXAAAAhgAAAHUAAAB4AAAA1gAAAHkAAAB8AAAAWwAAAKEAAACBAAAAYQAAAFoAAAB4AAAAcgAAAFcAAADCAAAAZgAAAFkAAABLAAAA3AAAAFwAAABkAAAAOwAAAPcAAACCAAAAaAAAADwAAACwAAAAZAAAADUAAAA0AAAA6QAAAHMAAAA9AAAASwAAAM8AAAB1AAAAVgAAAD0AAACWAAAAgwAAAF4AAAB3AAAAUQAAAGAAAABqAAAASwAAAE4AAAAkAAAAPwAAAC4AAAkpAAAAWAAAABsAAAAYAAAAFwAAAB8AAAAcAAAAGQAAABYAAAAcAAAAGQAAABYAAAAWAAAAGwAAABkAAAAWAAAAFgAAABsAAAAZAAAAFgAAABYAAAAcAAAAFAAAABRzdGNvAAAAAAAAAAEAAAAwAAAAYnVkdGEAAABabWV0YQAAAAAAAAAhaGRscgAAAAAAAAAAbWRpcmFwcGwAAAAAAAAAAAAAAAAtaWxzdAAAACWpdG9vAAAAHWRhdGEAAAABAAAAAExhdmY1OC4yOS4xMDA=\" type=\"video/mp4\" />\n",
       "             </video>"
      ],
      "text/plain": [
       "<IPython.core.display.HTML object>"
      ]
     },
     "metadata": {},
     "output_type": "display_data"
    }
   ],
   "source": [
    "import glob\n",
    "import io\n",
    "import base64\n",
    "import imageio\n",
    "from IPython.display import HTML, display\n",
    "from gymnasium.wrappers.monitoring.video_recorder import VideoRecorder\n",
    "\n",
    "def show_video_of_model(agent, env_name):\n",
    "    env = gym.make(env_name, render_mode='rgb_array')\n",
    "    state, _ = env.reset()\n",
    "    done = False\n",
    "    frames = []\n",
    "    while not done:\n",
    "        frame = env.render()\n",
    "        frames.append(frame)\n",
    "        action = agent.act(state)\n",
    "        state, reward, done, _, _ = env.step(action.item())\n",
    "    env.close()\n",
    "    imageio.mimsave('video.mp4', frames, fps=30)\n",
    "\n",
    "show_video_of_model(agent, 'LunarLander-v2')\n",
    "\n",
    "def show_video():\n",
    "    mp4list = glob.glob('*.mp4')\n",
    "    if len(mp4list) > 0:\n",
    "        mp4 = mp4list[0]\n",
    "        video = io.open(mp4, 'r+b').read()\n",
    "        encoded = base64.b64encode(video)\n",
    "        display(HTML(data='''<video alt=\"test\" autoplay\n",
    "                loop controls style=\"height: 400px;\">\n",
    "                <source src=\"data:video/mp4;base64,{0}\" type=\"video/mp4\" />\n",
    "             </video>'''.format(encoded.decode('ascii'))))\n",
    "    else:\n",
    "        print(\"Could not find video\")\n",
    "\n",
    "show_video()"
   ]
  }
 ],
 "metadata": {
  "kernelspec": {
   "display_name": "Python 3",
   "language": "python",
   "name": "python3"
  },
  "language_info": {
   "codemirror_mode": {
    "name": "ipython",
    "version": 3
   },
   "file_extension": ".py",
   "mimetype": "text/x-python",
   "name": "python",
   "nbconvert_exporter": "python",
   "pygments_lexer": "ipython3",
   "version": "3.11.8"
  }
 },
 "nbformat": 4,
 "nbformat_minor": 2
}
